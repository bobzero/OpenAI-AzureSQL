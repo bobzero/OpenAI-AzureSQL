{
  "cells": [
    {
      "cell_type": "code",
      "source": [
        "!pip install langchain\r\n",
        "!pip install langchain-community\r\n",
        "!pip install --upgrade openai"
      ],
      "outputs": [
        {
          "output_type": "display_data",
          "data": {
            "application/vnd.livy.statement-meta+json": {
              "spark_pool": "SampleSpark",
              "session_id": "1",
              "statement_id": 3,
              "statement_ids": [
                3
              ],
              "state": "finished",
              "livy_statement_state": "available",
              "queued_time": "2024-06-12T17:12:14.1943584Z",
              "session_start_time": null,
              "execution_start_time": "2024-06-12T17:12:14.328716Z",
              "execution_finish_time": "2024-06-12T17:12:40.0181213Z",
              "spark_jobs": null,
              "parent_msg_id": "2911305d-a60c-4344-925d-1a884845cffb"
            },
            "text/plain": "StatementMeta(SampleSpark, 1, 3, Finished, Available)"
          },
          "metadata": {}
        },
        {
          "output_type": "stream",
          "name": "stdout",
          "text": [
            "Collecting langchain\n  Downloading langchain-0.2.3-py3-none-any.whl (974 kB)\n\u001b[2K     \u001b[90m━━━━━━━━━━━━━━━━━━━━━━━━━━━━━━━━━━━━━━\u001b[0m \u001b[32m974.0/974.0 kB\u001b[0m \u001b[31m40.2 MB/s\u001b[0m eta \u001b[36m0:00:00\u001b[0m\n\u001b[?25hRequirement already satisfied: PyYAML>=5.3 in /home/trusted-service-user/cluster-env/env/lib/python3.10/site-packages (from langchain) (6.0.1)\nRequirement already satisfied: SQLAlchemy<3,>=1.4 in /home/trusted-service-user/cluster-env/env/lib/python3.10/site-packages (from langchain) (2.0.28)\nRequirement already satisfied: aiohttp<4.0.0,>=3.8.3 in /home/trusted-service-user/cluster-env/env/lib/python3.10/site-packages (from langchain) (3.9.3)\nRequirement already satisfied: async-timeout<5.0.0,>=4.0.0 in /home/trusted-service-user/cluster-env/env/lib/python3.10/site-packages (from langchain) (4.0.3)\nCollecting langchain-core<0.3.0,>=0.2.0 (from langchain)\n  Downloading langchain_core-0.2.5-py3-none-any.whl (314 kB)\n\u001b[2K     \u001b[90m━━━━━━━━━━━━━━━━━━━━━━━━━━━━━━━━━━━━━━\u001b[0m \u001b[32m314.7/314.7 kB\u001b[0m \u001b[31m45.5 MB/s\u001b[0m eta \u001b[36m0:00:00\u001b[0m\n\u001b[?25hCollecting langchain-text-splitters<0.3.0,>=0.2.0 (from langchain)\n  Downloading langchain_text_splitters-0.2.1-py3-none-any.whl (23 kB)\nCollecting langsmith<0.2.0,>=0.1.17 (from langchain)\n  Downloading langsmith-0.1.77-py3-none-any.whl (125 kB)\n\u001b[2K     \u001b[90m━━━━━━━━━━━━━━━━━━━━━━━━━━━━━━━━━━━━━━\u001b[0m \u001b[32m125.2/125.2 kB\u001b[0m \u001b[31m14.0 MB/s\u001b[0m eta \u001b[36m0:00:00\u001b[0m\n\u001b[?25hRequirement already satisfied: numpy<2,>=1 in /home/trusted-service-user/cluster-env/env/lib/python3.10/site-packages (from langchain) (1.23.5)\nCollecting pydantic<3,>=1 (from langchain)\n  Downloading pydantic-2.7.4-py3-none-any.whl (409 kB)\n\u001b[2K     \u001b[90m━━━━━━━━━━━━━━━━━━━━━━━━━━━━━━━━━━━━━━\u001b[0m \u001b[32m409.0/409.0 kB\u001b[0m \u001b[31m56.0 MB/s\u001b[0m eta \u001b[36m0:00:00\u001b[0m\n\u001b[?25hRequirement already satisfied: requests<3,>=2 in /home/trusted-service-user/cluster-env/env/lib/python3.10/site-packages (from langchain) (2.31.0)\nRequirement already satisfied: tenacity<9.0.0,>=8.1.0 in /home/trusted-service-user/cluster-env/env/lib/python3.10/site-packages (from langchain) (8.2.3)\nRequirement already satisfied: aiosignal>=1.1.2 in /home/trusted-service-user/cluster-env/env/lib/python3.10/site-packages (from aiohttp<4.0.0,>=3.8.3->langchain) (1.3.1)\nRequirement already satisfied: attrs>=17.3.0 in /home/trusted-service-user/cluster-env/env/lib/python3.10/site-packages (from aiohttp<4.0.0,>=3.8.3->langchain) (23.2.0)\nRequirement already satisfied: frozenlist>=1.1.1 in /home/trusted-service-user/cluster-env/env/lib/python3.10/site-packages (from aiohttp<4.0.0,>=3.8.3->langchain) (1.4.1)\nRequirement already satisfied: multidict<7.0,>=4.5 in /home/trusted-service-user/cluster-env/env/lib/python3.10/site-packages (from aiohttp<4.0.0,>=3.8.3->langchain) (6.0.5)\nRequirement already satisfied: yarl<2.0,>=1.0 in /home/trusted-service-user/cluster-env/env/lib/python3.10/site-packages (from aiohttp<4.0.0,>=3.8.3->langchain) (1.9.4)\nCollecting jsonpatch<2.0,>=1.33 (from langchain-core<0.3.0,>=0.2.0->langchain)\n  Downloading jsonpatch-1.33-py2.py3-none-any.whl (12 kB)\nRequirement already satisfied: packaging<24.0,>=23.2 in /home/trusted-service-user/cluster-env/env/lib/python3.10/site-packages (from langchain-core<0.3.0,>=0.2.0->langchain) (23.2)\nCollecting orjson<4.0.0,>=3.9.14 (from langsmith<0.2.0,>=0.1.17->langchain)\n  Downloading orjson-3.10.4-cp310-cp310-manylinux_2_17_x86_64.manylinux2014_x86_64.whl (142 kB)\n\u001b[2K     \u001b[90m━━━━━━━━━━━━━━━━━━━━━━━━━━━━━━━━━━━━━━\u001b[0m \u001b[32m142.7/142.7 kB\u001b[0m \u001b[31m33.7 MB/s\u001b[0m eta \u001b[36m0:00:00\u001b[0m\n\u001b[?25hCollecting annotated-types>=0.4.0 (from pydantic<3,>=1->langchain)\n  Downloading annotated_types-0.7.0-py3-none-any.whl (13 kB)\nCollecting pydantic-core==2.18.4 (from pydantic<3,>=1->langchain)\n  Downloading pydantic_core-2.18.4-cp310-cp310-manylinux_2_17_x86_64.manylinux2014_x86_64.whl (2.0 MB)\n\u001b[2K     \u001b[90m━━━━━━━━━━━━━━━━━━━━━━━━━━━━━━━━━━━━━━━━\u001b[0m \u001b[32m2.0/2.0 MB\u001b[0m \u001b[31m72.9 MB/s\u001b[0m eta \u001b[36m0:00:00\u001b[0m\n\u001b[?25hRequirement already satisfied: typing-extensions>=4.6.1 in /home/trusted-service-user/cluster-env/env/lib/python3.10/site-packages (from pydantic<3,>=1->langchain) (4.10.0)\nRequirement already satisfied: charset-normalizer<4,>=2 in /home/trusted-service-user/cluster-env/env/lib/python3.10/site-packages (from requests<3,>=2->langchain) (3.3.2)\nRequirement already satisfied: idna<4,>=2.5 in /home/trusted-service-user/cluster-env/env/lib/python3.10/site-packages (from requests<3,>=2->langchain) (3.6)\nRequirement already satisfied: urllib3<3,>=1.21.1 in /home/trusted-service-user/cluster-env/env/lib/python3.10/site-packages (from requests<3,>=2->langchain) (2.1.0)\nRequirement already satisfied: certifi>=2017.4.17 in /home/trusted-service-user/cluster-env/env/lib/python3.10/site-packages (from requests<3,>=2->langchain) (2024.2.2)\nRequirement already satisfied: greenlet!=0.4.17 in /home/trusted-service-user/cluster-env/env/lib/python3.10/site-packages (from SQLAlchemy<3,>=1.4->langchain) (3.0.3)\nRequirement already satisfied: jsonpointer>=1.9 in /home/trusted-service-user/cluster-env/env/lib/python3.10/site-packages (from jsonpatch<2.0,>=1.33->langchain-core<0.3.0,>=0.2.0->langchain) (2.4)\nInstalling collected packages: pydantic-core, orjson, jsonpatch, annotated-types, pydantic, langsmith, langchain-core, langchain-text-splitters, langchain\nSuccessfully installed annotated-types-0.7.0 jsonpatch-1.33 langchain-0.2.3 langchain-core-0.2.5 langchain-text-splitters-0.2.1 langsmith-0.1.77 orjson-3.10.4 pydantic-2.7.4 pydantic-core-2.18.4\nCollecting langchain-community\n  Downloading langchain_community-0.2.4-py3-none-any.whl (2.2 MB)\n\u001b[2K     \u001b[90m━━━━━━━━━━━━━━━━━━━━━━━━━━━━━━━━━━━━━━━━\u001b[0m \u001b[32m2.2/2.2 MB\u001b[0m \u001b[31m34.5 MB/s\u001b[0m eta \u001b[36m0:00:00\u001b[0mta \u001b[36m0:00:01\u001b[0m\n\u001b[?25hRequirement already satisfied: PyYAML>=5.3 in /home/trusted-service-user/cluster-env/env/lib/python3.10/site-packages (from langchain-community) (6.0.1)\nRequirement already satisfied: SQLAlchemy<3,>=1.4 in /home/trusted-service-user/cluster-env/env/lib/python3.10/site-packages (from langchain-community) (2.0.28)\nRequirement already satisfied: aiohttp<4.0.0,>=3.8.3 in /home/trusted-service-user/cluster-env/env/lib/python3.10/site-packages (from langchain-community) (3.9.3)\nCollecting dataclasses-json<0.7,>=0.5.7 (from langchain-community)\n  Downloading dataclasses_json-0.6.7-py3-none-any.whl (28 kB)\nRequirement already satisfied: langchain<0.3.0,>=0.2.0 in /home/trusted-service-user/cluster-env/env/lib/python3.10/site-packages (from langchain-community) (0.2.3)\nRequirement already satisfied: langchain-core<0.3.0,>=0.2.0 in /home/trusted-service-user/cluster-env/env/lib/python3.10/site-packages (from langchain-community) (0.2.5)\nRequirement already satisfied: langsmith<0.2.0,>=0.1.0 in /home/trusted-service-user/cluster-env/env/lib/python3.10/site-packages (from langchain-community) (0.1.77)\nRequirement already satisfied: numpy<2,>=1 in /home/trusted-service-user/cluster-env/env/lib/python3.10/site-packages (from langchain-community) (1.23.5)\nRequirement already satisfied: requests<3,>=2 in /home/trusted-service-user/cluster-env/env/lib/python3.10/site-packages (from langchain-community) (2.31.0)\nRequirement already satisfied: tenacity<9.0.0,>=8.1.0 in /home/trusted-service-user/cluster-env/env/lib/python3.10/site-packages (from langchain-community) (8.2.3)\nRequirement already satisfied: aiosignal>=1.1.2 in /home/trusted-service-user/cluster-env/env/lib/python3.10/site-packages (from aiohttp<4.0.0,>=3.8.3->langchain-community) (1.3.1)\nRequirement already satisfied: attrs>=17.3.0 in /home/trusted-service-user/cluster-env/env/lib/python3.10/site-packages (from aiohttp<4.0.0,>=3.8.3->langchain-community) (23.2.0)\nRequirement already satisfied: frozenlist>=1.1.1 in /home/trusted-service-user/cluster-env/env/lib/python3.10/site-packages (from aiohttp<4.0.0,>=3.8.3->langchain-community) (1.4.1)\nRequirement already satisfied: multidict<7.0,>=4.5 in /home/trusted-service-user/cluster-env/env/lib/python3.10/site-packages (from aiohttp<4.0.0,>=3.8.3->langchain-community) (6.0.5)\nRequirement already satisfied: yarl<2.0,>=1.0 in /home/trusted-service-user/cluster-env/env/lib/python3.10/site-packages (from aiohttp<4.0.0,>=3.8.3->langchain-community) (1.9.4)\nRequirement already satisfied: async-timeout<5.0,>=4.0 in /home/trusted-service-user/cluster-env/env/lib/python3.10/site-packages (from aiohttp<4.0.0,>=3.8.3->langchain-community) (4.0.3)\nRequirement already satisfied: marshmallow<4.0.0,>=3.18.0 in /home/trusted-service-user/cluster-env/env/lib/python3.10/site-packages (from dataclasses-json<0.7,>=0.5.7->langchain-community) (3.21.1)\nCollecting typing-inspect<1,>=0.4.0 (from dataclasses-json<0.7,>=0.5.7->langchain-community)\n  Downloading typing_inspect-0.9.0-py3-none-any.whl (8.8 kB)\nRequirement already satisfied: langchain-text-splitters<0.3.0,>=0.2.0 in /home/trusted-service-user/cluster-env/env/lib/python3.10/site-packages (from langchain<0.3.0,>=0.2.0->langchain-community) (0.2.1)\nRequirement already satisfied: pydantic<3,>=1 in /home/trusted-service-user/cluster-env/env/lib/python3.10/site-packages (from langchain<0.3.0,>=0.2.0->langchain-community) (2.7.4)\nRequirement already satisfied: jsonpatch<2.0,>=1.33 in /home/trusted-service-user/cluster-env/env/lib/python3.10/site-packages (from langchain-core<0.3.0,>=0.2.0->langchain-community) (1.33)\nRequirement already satisfied: packaging<24.0,>=23.2 in /home/trusted-service-user/cluster-env/env/lib/python3.10/site-packages (from langchain-core<0.3.0,>=0.2.0->langchain-community) (23.2)\nRequirement already satisfied: orjson<4.0.0,>=3.9.14 in /home/trusted-service-user/cluster-env/env/lib/python3.10/site-packages (from langsmith<0.2.0,>=0.1.0->langchain-community) (3.10.4)\nRequirement already satisfied: charset-normalizer<4,>=2 in /home/trusted-service-user/cluster-env/env/lib/python3.10/site-packages (from requests<3,>=2->langchain-community) (3.3.2)\nRequirement already satisfied: idna<4,>=2.5 in /home/trusted-service-user/cluster-env/env/lib/python3.10/site-packages (from requests<3,>=2->langchain-community) (3.6)\nRequirement already satisfied: urllib3<3,>=1.21.1 in /home/trusted-service-user/cluster-env/env/lib/python3.10/site-packages (from requests<3,>=2->langchain-community) (2.1.0)\nRequirement already satisfied: certifi>=2017.4.17 in /home/trusted-service-user/cluster-env/env/lib/python3.10/site-packages (from requests<3,>=2->langchain-community) (2024.2.2)\nRequirement already satisfied: typing-extensions>=4.6.0 in /home/trusted-service-user/cluster-env/env/lib/python3.10/site-packages (from SQLAlchemy<3,>=1.4->langchain-community) (4.10.0)\nRequirement already satisfied: greenlet!=0.4.17 in /home/trusted-service-user/cluster-env/env/lib/python3.10/site-packages (from SQLAlchemy<3,>=1.4->langchain-community) (3.0.3)\nRequirement already satisfied: jsonpointer>=1.9 in /home/trusted-service-user/cluster-env/env/lib/python3.10/site-packages (from jsonpatch<2.0,>=1.33->langchain-core<0.3.0,>=0.2.0->langchain-community) (2.4)\nRequirement already satisfied: annotated-types>=0.4.0 in /home/trusted-service-user/cluster-env/env/lib/python3.10/site-packages (from pydantic<3,>=1->langchain<0.3.0,>=0.2.0->langchain-community) (0.7.0)\nRequirement already satisfied: pydantic-core==2.18.4 in /home/trusted-service-user/cluster-env/env/lib/python3.10/site-packages (from pydantic<3,>=1->langchain<0.3.0,>=0.2.0->langchain-community) (2.18.4)\nRequirement already satisfied: mypy-extensions>=0.3.0 in /home/trusted-service-user/cluster-env/env/lib/python3.10/site-packages (from typing-inspect<1,>=0.4.0->dataclasses-json<0.7,>=0.5.7->langchain-community) (1.0.0)\nInstalling collected packages: typing-inspect, dataclasses-json, langchain-community\nSuccessfully installed dataclasses-json-0.6.7 langchain-community-0.2.4 typing-inspect-0.9.0\nCollecting openai\n  Downloading openai-1.33.0-py3-none-any.whl (325 kB)\n\u001b[2K     \u001b[90m━━━━━━━━━━━━━━━━━━━━━━━━━━━━━━━━━━━━━━\u001b[0m \u001b[32m325.5/325.5 kB\u001b[0m \u001b[31m25.7 MB/s\u001b[0m eta \u001b[36m0:00:00\u001b[0m\n\u001b[?25hRequirement already satisfied: anyio<5,>=3.5.0 in /home/trusted-service-user/cluster-env/env/lib/python3.10/site-packages (from openai) (3.7.1)\nCollecting distro<2,>=1.7.0 (from openai)\n  Downloading distro-1.9.0-py3-none-any.whl (20 kB)\nCollecting httpx<1,>=0.23.0 (from openai)\n  Downloading httpx-0.27.0-py3-none-any.whl (75 kB)\n\u001b[2K     \u001b[90m━━━━━━━━━━━━━━━━━━━━━━━━━━━━━━━━━━━━━━━━\u001b[0m \u001b[32m75.6/75.6 kB\u001b[0m \u001b[31m21.3 MB/s\u001b[0m eta \u001b[36m0:00:00\u001b[0m\n\u001b[?25hRequirement already satisfied: pydantic<3,>=1.9.0 in /home/trusted-service-user/cluster-env/env/lib/python3.10/site-packages (from openai) (2.7.4)\nRequirement already satisfied: sniffio in /home/trusted-service-user/cluster-env/env/lib/python3.10/site-packages (from openai) (1.3.1)\nRequirement already satisfied: tqdm>4 in /home/trusted-service-user/cluster-env/env/lib/python3.10/site-packages (from openai) (4.66.2)\nRequirement already satisfied: typing-extensions<5,>=4.7 in /home/trusted-service-user/cluster-env/env/lib/python3.10/site-packages (from openai) (4.10.0)\nRequirement already satisfied: idna>=2.8 in /home/trusted-service-user/cluster-env/env/lib/python3.10/site-packages (from anyio<5,>=3.5.0->openai) (3.6)\nRequirement already satisfied: exceptiongroup in /home/trusted-service-user/cluster-env/env/lib/python3.10/site-packages (from anyio<5,>=3.5.0->openai) (1.2.0)\nRequirement already satisfied: certifi in /home/trusted-service-user/cluster-env/env/lib/python3.10/site-packages (from httpx<1,>=0.23.0->openai) (2024.2.2)\nCollecting httpcore==1.* (from httpx<1,>=0.23.0->openai)\n  Downloading httpcore-1.0.5-py3-none-any.whl (77 kB)\n\u001b[2K     \u001b[90m━━━━━━━━━━━━━━━━━━━━━━━━━━━━━━━━━━━━━━━━\u001b[0m \u001b[32m77.9/77.9 kB\u001b[0m \u001b[31m22.9 MB/s\u001b[0m eta \u001b[36m0:00:00\u001b[0m\n\u001b[?25hCollecting h11<0.15,>=0.13 (from httpcore==1.*->httpx<1,>=0.23.0->openai)\n  Downloading h11-0.14.0-py3-none-any.whl (58 kB)\n\u001b[2K     \u001b[90m━━━━━━━━━━━━━━━━━━━━━━━━━━━━━━━━━━━━━━━━\u001b[0m \u001b[32m58.3/58.3 kB\u001b[0m \u001b[31m16.1 MB/s\u001b[0m eta \u001b[36m0:00:00\u001b[0m\n\u001b[?25hRequirement already satisfied: annotated-types>=0.4.0 in /home/trusted-service-user/cluster-env/env/lib/python3.10/site-packages (from pydantic<3,>=1.9.0->openai) (0.7.0)\nRequirement already satisfied: pydantic-core==2.18.4 in /home/trusted-service-user/cluster-env/env/lib/python3.10/site-packages (from pydantic<3,>=1.9.0->openai) (2.18.4)\nInstalling collected packages: h11, distro, httpcore, httpx, openai\nSuccessfully installed distro-1.9.0 h11-0.14.0 httpcore-1.0.5 httpx-0.27.0 openai-1.33.0\n"
          ]
        }
      ],
      "execution_count": 2,
      "metadata": {
        "jupyter": {
          "source_hidden": false,
          "outputs_hidden": true
        },
        "nteract": {
          "transient": {
            "deleting": false
          }
        }
      }
    },
    {
      "cell_type": "code",
      "source": [
        "import os\r\n",
        "import pyodbc\r\n",
        "\r\n",
        "server = '<USEYOUROWN>.database.windows.net'  \r\n",
        "database = '<USEYOUROWN>'  \r\n",
        "driver = 'ODBC Driver 18 for SQL Server'  \r\n",
        "schema = '<USEYOUROWN>'\r\n",
        "\r\n",
        "mysqlusername = '<USEYOUROWN>'  \r\n",
        "mysqlpassword = '<USEYOUROWN>'\r\n",
        "myazureopenaiendpoint = 'https://<USEYOUROWN>.openai.azure.com/'\r\n",
        "myazureopenaikey = '<USEYOUROWN>'\r\n",
        "myapiversion = '2023-05-15'\r\n",
        "#mymodelname = 'gpt-4'\r\n",
        "mymodelname = 'GPT4'\r\n",
        "mydeploymentname = 'GPT4'"
      ],
      "outputs": [
        {
          "output_type": "display_data",
          "data": {
            "application/vnd.livy.statement-meta+json": {
              "spark_pool": "SampleSpark",
              "session_id": "1",
              "statement_id": 4,
              "statement_ids": [
                4
              ],
              "state": "finished",
              "livy_statement_state": "available",
              "queued_time": "2024-06-12T17:16:44.4031278Z",
              "session_start_time": null,
              "execution_start_time": "2024-06-12T17:16:44.5417019Z",
              "execution_finish_time": "2024-06-12T17:16:44.702562Z",
              "spark_jobs": null,
              "parent_msg_id": "adf79bde-e6d6-4f34-a248-fa07ed29bc6c"
            },
            "text/plain": "StatementMeta(SampleSpark, 1, 4, Finished, Available)"
          },
          "metadata": {}
        }
      ],
      "execution_count": 3,
      "metadata": {
        "jupyter": {
          "source_hidden": false,
          "outputs_hidden": false
        },
        "nteract": {
          "transient": {
            "deleting": false
          }
        }
      }
    },
    {
      "cell_type": "code",
      "source": [
        "# Connect to AzSQL database and show a few rows\r\n",
        "cnxn = pyodbc.connect(f'DRIVER={driver};SERVER={server};PORT=1433;DATABASE={database};UID={mysqlusername};PWD={mysqlpassword}')  \r\n",
        "cursor = cnxn.cursor()  \r\n",
        "print(cursor.execute(f'select * from {schema}.[Customer]'))\r\n",
        "results = cursor.fetchall()\r\n",
        "\r\n",
        "i = 0\r\n",
        "for row in results:\r\n",
        "    print(row)\r\n",
        "    i += 1\r\n",
        "    if i > 5: break "
      ],
      "outputs": [
        {
          "output_type": "display_data",
          "data": {
            "application/vnd.livy.statement-meta+json": {
              "spark_pool": "SampleSpark",
              "session_id": "1",
              "statement_id": 5,
              "statement_ids": [
                5
              ],
              "state": "finished",
              "livy_statement_state": "available",
              "queued_time": "2024-06-12T17:16:47.5156457Z",
              "session_start_time": null,
              "execution_start_time": "2024-06-12T17:16:47.6402043Z",
              "execution_finish_time": "2024-06-12T17:16:48.738172Z",
              "spark_jobs": null,
              "parent_msg_id": "7214b50a-02ab-4b2b-932a-8f68adb64003"
            },
            "text/plain": "StatementMeta(SampleSpark, 1, 5, Finished, Available)"
          },
          "metadata": {}
        },
        {
          "output_type": "stream",
          "name": "stdout",
          "text": [
            "<pyodbc.Cursor object at 0x7e21200dfb30>\n(1, False, 'Mr.', 'Orlando', 'N.', 'Gee', None, 'A Bike Store', 'adventure-works\\\\pamela0', 'orlando0@adventure-works.com', '245-555-0173', 'L/Rlwxzp4w7RWmEgXX+/A7cXaePEPcp+KwQhl2fJL7w=', '1KjXYs4=', '3F5AE95E-B87D-4AED-95B4-C3797AFCB74F', datetime.datetime(2005, 8, 1, 0, 0))\n(2, False, 'Mr.', 'Keith', None, 'Harris', None, 'Progressive Sports', 'adventure-works\\\\david8', 'keith0@adventure-works.com', '170-555-0127', 'YPdtRdvqeAhj6wyxEsFdshBDNXxkCXn+CRgbvJItknw=', 'fs1ZGhY=', 'E552F657-A9AF-4A7D-A645-C429D6E02491', datetime.datetime(2006, 8, 1, 0, 0))\n(3, False, 'Ms.', 'Donna', 'F.', 'Carreras', None, 'Advanced Bike Components', 'adventure-works\\\\jillian0', 'donna0@adventure-works.com', '279-555-0130', 'LNoK27abGQo48gGue3EBV/UrlYSToV0/s87dCRV7uJk=', 'YTNH5Rw=', '130774B1-DB21-4EF3-98C8-C104BCD6ED6D', datetime.datetime(2005, 9, 1, 0, 0))\n(4, False, 'Ms.', 'Janet', 'M.', 'Gates', None, 'Modular Cycle Systems', 'adventure-works\\\\jillian0', 'janet1@adventure-works.com', '710-555-0173', 'ElzTpSNbUW1Ut+L5cWlfR7MF6nBZia8WpmGaQPjLOJA=', 'nm7D5e4=', 'FF862851-1DAA-4044-BE7C-3E85583C054D', datetime.datetime(2006, 7, 1, 0, 0))\n(5, False, 'Mr.', 'Lucy', None, 'Harrington', None, 'Metropolitan Sports Supply', 'adventure-works\\\\shu0', 'lucy0@adventure-works.com', '828-555-0186', 'KJqV15wsX3PG8TS5GSddp6LFFVdd3CoRftZM/tP0+R4=', 'cNFKU4w=', '83905BDC-6F5E-4F71-B162-C98DA069F38A', datetime.datetime(2006, 9, 1, 0, 0))\n(6, False, 'Ms.', 'Rosmarie', 'J.', 'Carroll', None, 'Aerobic Exercise Company', 'adventure-works\\\\linda3', 'rosmarie0@adventure-works.com', '244-555-0112', 'OKT0scizCdIzymHHOtyJKQiC/fCILSooSZ8dQ2Y34VM=', 'ihWf50M=', '1A92DF88-BFA2-467D-BD54-FCB9E647FDD7', datetime.datetime(2007, 9, 1, 0, 0))\n"
          ]
        }
      ],
      "execution_count": 4,
      "metadata": {
        "jupyter": {
          "source_hidden": false,
          "outputs_hidden": false
        },
        "nteract": {
          "transient": {
            "deleting": false
          }
        }
      }
    },
    {
      "cell_type": "code",
      "source": [
        "# Create a database connection\r\n",
        "# from sqlalchemy import create_engine\r\n",
        "from sqlalchemy.engine.url import URL\r\n",
        "from langchain_community.utilities.sql_database import SQLDatabase\r\n",
        "#from langchain_community import SQLDatabase\r\n",
        "\r\n",
        "\r\n",
        "\r\n",
        "db_config = {  \r\n",
        "    'drivername': 'mssql+pyodbc',  \r\n",
        "    'username': f'{mysqlusername}@{server}', \r\n",
        "    'password': mysqlpassword,  \r\n",
        "    'host': server,  \r\n",
        "    'port': 1433,  \r\n",
        "    'database': database,\r\n",
        "    'query': {'driver': driver}  \r\n",
        "}  \r\n",
        "\r\n",
        "db_url = URL.create(**db_config)\r\n",
        "db = SQLDatabase.from_uri(db_url, schema=f'{schema}')\r\n"
      ],
      "outputs": [
        {
          "output_type": "display_data",
          "data": {
            "application/vnd.livy.statement-meta+json": {
              "spark_pool": "SampleSpark",
              "session_id": "1",
              "statement_id": 6,
              "statement_ids": [
                6
              ],
              "state": "finished",
              "livy_statement_state": "available",
              "queued_time": "2024-06-12T17:16:54.1123617Z",
              "session_start_time": null,
              "execution_start_time": "2024-06-12T17:16:54.2351474Z",
              "execution_finish_time": "2024-06-12T17:16:57.4212401Z",
              "spark_jobs": null,
              "parent_msg_id": "404b293f-6505-4b23-a545-d78b67796bed"
            },
            "text/plain": "StatementMeta(SampleSpark, 1, 6, Finished, Available)"
          },
          "metadata": {}
        }
      ],
      "execution_count": 5,
      "metadata": {
        "jupyter": {
          "source_hidden": false,
          "outputs_hidden": false
        },
        "nteract": {
          "transient": {
            "deleting": false
          }
        }
      }
    },
    {
      "cell_type": "code",
      "source": [
        "# Define the model\r\n",
        "\r\n",
        "# from langchain_community.chat_models import AzureChatOpenAI\r\n",
        "# from sam -- from langchain_openai.chat_models import AzureChatOpenAI\r\n",
        "from langchain.chat_models import AzureChatOpenAI\r\n",
        "import os\r\n",
        "\r\n",
        "os.environ[\"AZURE_OPENAI_ENDPOINT\"] = myazureopenaiendpoint\r\n",
        "os.environ[\"AZURE_OPENAI_API_KEY\"] = myazureopenaikey\r\n",
        "os.environ[\"API_VERSION\"] = myapiversion\r\n",
        "os.environ[\"MODEL_NAME\"] = mymodelname\r\n",
        "\r\n",
        "llm = AzureChatOpenAI( \r\n",
        "    openai_api_key=os.getenv(\"AZURE_OPENAI_API_KEY\"),\r\n",
        "    azure_endpoint=os.getenv(\"AZURE_OPENAI_ENDPOINT\"),\r\n",
        "    openai_api_version=os.getenv(\"API_VERSION\"),\r\n",
        "    deployment_name=os.getenv(\"MODEL_NAME\"),\r\n",
        ")"
      ],
      "outputs": [
        {
          "output_type": "display_data",
          "data": {
            "application/vnd.livy.statement-meta+json": {
              "spark_pool": "SampleSpark",
              "session_id": "1",
              "statement_id": 7,
              "statement_ids": [
                7
              ],
              "state": "finished",
              "livy_statement_state": "available",
              "queued_time": "2024-06-12T17:17:01.4209452Z",
              "session_start_time": null,
              "execution_start_time": "2024-06-12T17:17:01.5618486Z",
              "execution_finish_time": "2024-06-12T17:17:03.4155991Z",
              "spark_jobs": null,
              "parent_msg_id": "8f53712a-da6e-4076-b1b4-189759ae8848"
            },
            "text/plain": "StatementMeta(SampleSpark, 1, 7, Finished, Available)"
          },
          "metadata": {}
        },
        {
          "output_type": "stream",
          "name": "stderr",
          "text": [
            "/home/trusted-service-user/cluster-env/env/lib/python3.10/site-packages/langchain_core/_api/deprecation.py:119: LangChainDeprecationWarning: The class `AzureChatOpenAI` was deprecated in LangChain 0.0.10 and will be removed in 0.3.0. An updated version of the class exists in the langchain-openai package and should be used instead. To use it run `pip install -U langchain-openai` and import as `from langchain_openai import AzureChatOpenAI`.\n  warn_deprecated(\n"
          ]
        }
      ],
      "execution_count": 6,
      "metadata": {
        "jupyter": {
          "source_hidden": false,
          "outputs_hidden": false
        },
        "nteract": {
          "transient": {
            "deleting": false
          }
        }
      }
    },
    {
      "cell_type": "code",
      "source": [
        "# Define SQL Database tools\r\n",
        "from langchain.agents.agent_toolkits import SQLDatabaseToolkit\r\n",
        "from langchain.sql_database import SQLDatabase\r\n",
        "\r\n",
        "toolkit = SQLDatabaseToolkit(db=db, llm=llm)\r\n",
        "# context = toolkit.get_context() #Sam added this\r\n",
        "# tools = toolkit.get_tools() #Sam added this"
      ],
      "outputs": [
        {
          "output_type": "display_data",
          "data": {
            "application/vnd.livy.statement-meta+json": {
              "spark_pool": "SampleSpark",
              "session_id": "1",
              "statement_id": 8,
              "statement_ids": [
                8
              ],
              "state": "finished",
              "livy_statement_state": "available",
              "queued_time": "2024-06-12T17:17:09.0500532Z",
              "session_start_time": null,
              "execution_start_time": "2024-06-12T17:17:09.2052684Z",
              "execution_finish_time": "2024-06-12T17:17:10.2891779Z",
              "spark_jobs": null,
              "parent_msg_id": "6ef38593-9ec6-4e6f-a7d0-f39d863723d2"
            },
            "text/plain": "StatementMeta(SampleSpark, 1, 8, Finished, Available)"
          },
          "metadata": {}
        }
      ],
      "execution_count": 7,
      "metadata": {
        "jupyter": {
          "source_hidden": false,
          "outputs_hidden": false
        },
        "nteract": {
          "transient": {
            "deleting": false
          }
        }
      }
    },
    {
      "cell_type": "code",
      "source": [
        "#Define the ZeroShotAgent\r\n",
        "# Zero shot does not include any history or examples\r\n",
        "from langchain.agents import AgentExecutor\r\n",
        "from langchain.agents.agent_types import AgentType\r\n",
        "from langchain.agents import create_sql_agent\r\n",
        "\r\n",
        "\r\n",
        "agent_executor = create_sql_agent(\r\n",
        "    llm=llm,\r\n",
        "    toolkit=toolkit,\r\n",
        "    verbose=True,\r\n",
        "    agent_type=AgentType.ZERO_SHOT_REACT_DESCRIPTION\r\n",
        "    #agent_type=\"openai-tools\"\r\n",
        ")"
      ],
      "outputs": [
        {
          "output_type": "display_data",
          "data": {
            "application/vnd.livy.statement-meta+json": {
              "spark_pool": "SampleSpark",
              "session_id": "1",
              "statement_id": 9,
              "statement_ids": [
                9
              ],
              "state": "finished",
              "livy_statement_state": "available",
              "queued_time": "2024-06-12T17:17:16.1757846Z",
              "session_start_time": null,
              "execution_start_time": "2024-06-12T17:17:16.3106844Z",
              "execution_finish_time": "2024-06-12T17:17:16.4603307Z",
              "spark_jobs": null,
              "parent_msg_id": "192994a5-3083-481a-b89f-19523fe145ac"
            },
            "text/plain": "StatementMeta(SampleSpark, 1, 9, Finished, Available)"
          },
          "metadata": {}
        }
      ],
      "execution_count": 8,
      "metadata": {
        "jupyter": {
          "source_hidden": false,
          "outputs_hidden": false
        },
        "nteract": {
          "transient": {
            "deleting": false
          }
        }
      }
    },
    {
      "cell_type": "code",
      "source": [
        "# ask a question, no schema prompt needed\r\n",
        "agent_executor.run('how many tables are in the database?')\r\n",
        "agent_executor.invoke('How many customers are there?')\r\n",
        "agent_executor.run(\"what is the most expensive product?\")"
      ],
      "outputs": [
        {
          "output_type": "display_data",
          "data": {
            "application/vnd.livy.statement-meta+json": {
              "spark_pool": "SampleSpark",
              "session_id": "1",
              "statement_id": 10,
              "statement_ids": [
                10
              ],
              "state": "finished",
              "livy_statement_state": "available",
              "queued_time": "2024-06-12T17:20:09.9426505Z",
              "session_start_time": null,
              "execution_start_time": "2024-06-12T17:20:10.0895075Z",
              "execution_finish_time": "2024-06-12T17:21:44.0436819Z",
              "spark_jobs": null,
              "parent_msg_id": "177a31d4-7379-4e40-960b-793b5ac77dd4"
            },
            "text/plain": "StatementMeta(SampleSpark, 1, 10, Finished, Available)"
          },
          "metadata": {}
        },
        {
          "output_type": "stream",
          "name": "stderr",
          "text": [
            "/home/trusted-service-user/cluster-env/env/lib/python3.10/site-packages/langchain_core/_api/deprecation.py:119: LangChainDeprecationWarning: The method `Chain.run` was deprecated in langchain 0.1.0 and will be removed in 0.3.0. Use invoke instead.\n  warn_deprecated(\n"
          ]
        },
        {
          "output_type": "stream",
          "name": "stdout",
          "text": [
            "\n\n\u001b[1m> Entering new SQL Agent Executor chain...\u001b[0m\n\u001b[32;1m\u001b[1;3mTo find out how many tables are in the database, I can use the sql_db_list_tables tool.\nAction: sql_db_list_tables\nAction Input: \"\"\u001b[0m\u001b[38;5;200m\u001b[1;3mAddress, Customer, CustomerAddress, Product, ProductCategory, ProductDescription, ProductModel, ProductModelProductDescription, SalesOrderDetail, SalesOrderHeader\u001b[0m\u001b[32;1m\u001b[1;3mI now know the final answer.\nFinal Answer: There are 10 tables in the database.\u001b[0m\n\n\u001b[1m> Finished chain.\u001b[0m\n\n\n\u001b[1m> Entering new SQL Agent Executor chain...\u001b[0m\n\u001b[32;1m\u001b[1;3mI need to know the table that contains the customer information. I will use sql_db_list_tables to get a list of tables.\nAction: sql_db_list_tables\nAction Input: \"\"\u001b[0m\u001b[38;5;200m\u001b[1;3mAddress, Customer, CustomerAddress, Product, ProductCategory, ProductDescription, ProductModel, ProductModelProductDescription, SalesOrderDetail, SalesOrderHeader\u001b[0m\u001b[32;1m\u001b[1;3mThe \"Customer\" table most likely contains the customer data I need. To be sure, I should check its schema.\nAction: sql_db_schema\nAction Input: \"Customer\"\u001b[0m\u001b[33;1m\u001b[1;3m\nCREATE TABLE [SalesLT].[Customer] (\n\t[CustomerID] INTEGER NOT NULL IDENTITY(1,1), \n\t[NameStyle] BIT NOT NULL DEFAULT ((0)), \n\t[Title] NVARCHAR(8) COLLATE SQL_Latin1_General_CP1_CI_AS NULL, \n\t[FirstName] NVARCHAR(50) COLLATE SQL_Latin1_General_CP1_CI_AS NOT NULL, \n\t[MiddleName] NVARCHAR(50) COLLATE SQL_Latin1_General_CP1_CI_AS NULL, \n\t[LastName] NVARCHAR(50) COLLATE SQL_Latin1_General_CP1_CI_AS NOT NULL, \n\t[Suffix] NVARCHAR(10) COLLATE SQL_Latin1_General_CP1_CI_AS NULL, \n\t[CompanyName] NVARCHAR(128) COLLATE SQL_Latin1_General_CP1_CI_AS NULL, \n\t[SalesPerson] NVARCHAR(256) COLLATE SQL_Latin1_General_CP1_CI_AS NULL, \n\t[EmailAddress] NVARCHAR(50) COLLATE SQL_Latin1_General_CP1_CI_AS NULL, \n\t[Phone] NVARCHAR(25) COLLATE SQL_Latin1_General_CP1_CI_AS NULL, \n\t[PasswordHash] VARCHAR(128) COLLATE SQL_Latin1_General_CP1_CI_AS NOT NULL, \n\t[PasswordSalt] VARCHAR(10) COLLATE SQL_Latin1_General_CP1_CI_AS NOT NULL, \n\trowguid UNIQUEIDENTIFIER NOT NULL DEFAULT (newid()), \n\t[ModifiedDate] DATETIME NOT NULL DEFAULT (getdate()), \n\tCONSTRAINT [PK_Customer_CustomerID] PRIMARY KEY ([CustomerID])\n)\n\n/*\n3 rows from Customer table:\nCustomerID\tNameStyle\tTitle\tFirstName\tMiddleName\tLastName\tSuffix\tCompanyName\tSalesPerson\tEmailAddress\tPhone\tPasswordHash\tPasswordSalt\trowguid\tModifiedDate\n1\tFalse\tMr.\tOrlando\tN.\tGee\tNone\tA Bike Store\tadventure-works\\pamela0\torlando0@adventure-works.com\t245-555-0173\tL/Rlwxzp4w7RWmEgXX+/A7cXaePEPcp+KwQhl2fJL7w=\t1KjXYs4=\t3f5ae95e-b87d-4aed-95b4-c3797afcb74f\t2005-08-01 00:00:00\n2\tFalse\tMr.\tKeith\tNone\tHarris\tNone\tProgressive Sports\tadventure-works\\david8\tkeith0@adventure-works.com\t170-555-0127\tYPdtRdvqeAhj6wyxEsFdshBDNXxkCXn+CRgbvJItknw=\tfs1ZGhY=\te552f657-a9af-4a7d-a645-c429d6e02491\t2006-08-01 00:00:00\n3\tFalse\tMs.\tDonna\tF.\tCarreras\tNone\tAdvanced Bike Components\tadventure-works\\jillian0\tdonna0@adventure-works.com\t279-555-0130\tLNoK27abGQo48gGue3EBV/UrlYSToV0/s87dCRV7uJk=\tYTNH5Rw=\t130774b1-db21-4ef3-98c8-c104bcd6ed6d\t2005-09-01 00:00:00\n*/\u001b[0m\u001b[32;1m\u001b[1;3mThe \"Customer\" table definitely contains the customer data I need. To find out how many customers there are, I need to execute a SQL query to count the number of unique CustomerIDs in the Customer table.\nAction: sql_db_query_checker\nAction Input: \"SELECT COUNT(DISTINCT CustomerID) FROM Customer\"\u001b[0m\u001b[36;1m\u001b[1;3mSELECT COUNT(DISTINCT CustomerID) FROM Customer\u001b[0m\u001b[32;1m\u001b[1;3mThe query is correct. Now I will run this query to find out how many customers there are.\nAction: sql_db_query\nAction Input: \"SELECT COUNT(DISTINCT CustomerID) FROM Customer\"\u001b[0m\u001b[36;1m\u001b[1;3mError: (pyodbc.ProgrammingError) ('42S02', \"[42S02] [Microsoft][ODBC Driver 18 for SQL Server][SQL Server]Invalid object name 'Customer'. (208) (SQLExecDirectW)\")\n[SQL: SELECT COUNT(DISTINCT CustomerID) FROM Customer]\n(Background on this error at: https://sqlalche.me/e/20/f405)\u001b[0m\u001b[32;1m\u001b[1;3mThe database returned an error stating that the 'Customer' object is invalid. It may be because the table is under a specific schema and needs to be referred with its schema name. Going back to the schema observation, we can see that the schema name is 'SalesLT'. So, I should include that in my query.\nAction: sql_db_query_checker\nAction Input: \"SELECT COUNT(DISTINCT CustomerID) FROM SalesLT.Customer\"\u001b[0m\u001b[36;1m\u001b[1;3mSELECT COUNT(DISTINCT CustomerID) FROM SalesLT.Customer\u001b[0m\u001b[32;1m\u001b[1;3mThe query is correct with the schema name included. Now I will run this query to find out how many customers there are.\nAction: sql_db_query\nAction Input: \"SELECT COUNT(DISTINCT CustomerID) FROM SalesLT.Customer\"\u001b[0m\u001b[36;1m\u001b[1;3m[(847,)]\u001b[0m\u001b[32;1m\u001b[1;3mI now know the final answer\nFinal Answer: There are 847 customers.\u001b[0m\n\n\u001b[1m> Finished chain.\u001b[0m\n\n\n\u001b[1m> Entering new SQL Agent Executor chain...\u001b[0m\n\u001b[32;1m\u001b[1;3mTo find the most expensive product, I need to look at the table that contains product information, particularly the price of each product. I will first list all the tables to identify the relevant one.\nAction: sql_db_list_tables\nAction Input: \"\"\u001b[0m\u001b[38;5;200m\u001b[1;3mAddress, Customer, CustomerAddress, Product, ProductCategory, ProductDescription, ProductModel, ProductModelProductDescription, SalesOrderDetail, SalesOrderHeader\u001b[0m\u001b[32;1m\u001b[1;3mThe Product table seems to be the most relevant one for getting product price information. However, I should check the schema of the Product table to be sure that it contains a field for product price.\nAction: sql_db_schema\nAction Input: \"Product\"\u001b[0m\u001b[33;1m\u001b[1;3m\nCREATE TABLE [SalesLT].[Product] (\n\t[ProductID] INTEGER NOT NULL IDENTITY(1,1), \n\t[Name] NVARCHAR(50) COLLATE SQL_Latin1_General_CP1_CI_AS NOT NULL, \n\t[ProductNumber] NVARCHAR(25) COLLATE SQL_Latin1_General_CP1_CI_AS NOT NULL, \n\t[Color] NVARCHAR(15) COLLATE SQL_Latin1_General_CP1_CI_AS NULL, \n\t[StandardCost] MONEY NOT NULL, \n\t[ListPrice] MONEY NOT NULL, \n\t[Size] NVARCHAR(5) COLLATE SQL_Latin1_General_CP1_CI_AS NULL, \n\t[Weight] DECIMAL(8, 2) NULL, \n\t[ProductCategoryID] INTEGER NULL, \n\t[ProductModelID] INTEGER NULL, \n\t[SellStartDate] DATETIME NOT NULL, \n\t[SellEndDate] DATETIME NULL, \n\t[DiscontinuedDate] DATETIME NULL, \n\t[ThumbNailPhoto] VARBINARY(max) NULL, \n\t[ThumbnailPhotoFileName] NVARCHAR(50) COLLATE SQL_Latin1_General_CP1_CI_AS NULL, \n\trowguid UNIQUEIDENTIFIER NOT NULL DEFAULT (newid()), \n\t[ModifiedDate] DATETIME NOT NULL DEFAULT (getdate()), \n\tCONSTRAINT [PK_Product_ProductID] PRIMARY KEY ([ProductID]), \n\tCONSTRAINT [FK_Product_ProductCategory_ProductCategoryID] FOREIGN KEY([ProductCategoryID]) REFERENCES [SalesLT].[ProductCategory] ([ProductCategoryID]), \n\tCONSTRAINT [FK_Product_ProductModel_ProductModelID] FOREIGN KEY([ProductModelID]) REFERENCES [SalesLT].[ProductModel] ([ProductModelID])\n)\n\n/*\n3 rows from Product table:\nProductID\tName\tProductNumber\tColor\tStandardCost\tListPrice\tSize\tWeight\tProductCategoryID\tProductModelID\tSellStartDate\tSellEndDate\tDiscontinuedDate\tThumbNailPhoto\tThumbnailPhotoFileName\trowguid\tModifiedDate\n680\tHL Road Frame - Black, 58\tFR-R92B-58\tBlack\t1059.3100\t1431.5000\t58\t1016.04\t18\t6\t2002-06-01 00:00:00\tNone\tNone\tb'GIF89aP\\x001\\x00\\xf7\\x00\\x00\\x00\\x00\\x00\\x80\\x00\\x00\\x00\\x80\\x00\\x80\\x80\\x00\\x00\\x00\\x80\\x80\\x00\\x\tno_image_available_small.gif\t43dd68d6-14a4-461f-9069-55309d90ea7e\t2008-03-11 10:01:36.827000\n706\tHL Road Frame - Red, 58\tFR-R92R-58\tRed\t1059.3100\t1431.5000\t58\t1016.04\t18\t6\t2002-06-01 00:00:00\tNone\tNone\tb'GIF89aP\\x001\\x00\\xf7\\x00\\x00\\x00\\x00\\x00\\x80\\x00\\x00\\x00\\x80\\x00\\x80\\x80\\x00\\x00\\x00\\x80\\x80\\x00\\x\tno_image_available_small.gif\t9540ff17-2712-4c90-a3d1-8ce5568b2462\t2008-03-11 10:01:36.827000\n707\tSport-100 Helmet, Red\tHL-U509-R\tRed\t13.0863\t34.9900\tNone\tNone\t35\t33\t2005-07-01 00:00:00\tNone\tNone\tb'GIF89aP\\x001\\x00\\xf7\\x00\\x00\\x00\\x00\\x00\\x80\\x00\\x00\\x00\\x80\\x00\\x80\\x80\\x00\\x00\\x00\\x80\\x80\\x00\\x\tno_image_available_small.gif\t2e1ef41a-c08a-4ff6-8ada-bde58b64a712\t2008-03-11 10:01:36.827000\n*/\u001b[0m\u001b[32;1m\u001b[1;3mThe Product table does indeed have a field for product price, which is \"ListPrice\". Now, I can write a SQL query to find the product with the highest list price.\nAction: sql_db_query_checker\nAction Input: \"SELECT Name, MAX(ListPrice) AS MaxPrice FROM Product\"\u001b[0m\u001b[36;1m\u001b[1;3mSELECT Name, MAX(ListPrice) AS MaxPrice FROM Product\u001b[0m\u001b[32;1m\u001b[1;3mThe SQL query syntax appears to be correct. Now, I will execute the query to find the most expensive product.\nAction: sql_db_query\nAction Input: \"SELECT Name, MAX(ListPrice) AS MaxPrice FROM Product\"\u001b[0m\u001b[36;1m\u001b[1;3mError: (pyodbc.ProgrammingError) ('42S02', \"[42S02] [Microsoft][ODBC Driver 18 for SQL Server][SQL Server]Invalid object name 'Product'. (208) (SQLExecDirectW)\")\n[SQL: SELECT Name, MAX(ListPrice) AS MaxPrice FROM Product]\n(Background on this error at: https://sqlalche.me/e/20/f405)\u001b[0m\u001b[32;1m\u001b[1;3mThe error message indicates that the object 'Product' is not found. Perhaps, the table name is prefixed with a schema name, as can be seen in the schema definition. I should try using the fully qualified name of the table in the query.\nAction: sql_db_query_checker\nAction Input: \"SELECT Name, MAX(ListPrice) AS MaxPrice FROM SalesLT.Product\"\u001b[0m\u001b[36;1m\u001b[1;3mSELECT Name, MAX(ListPrice) AS MaxPrice FROM SalesLT.Product\u001b[0m\u001b[32;1m\u001b[1;3mThe SQL query syntax appears to be correct with the fully qualified table name. Now, I will execute the query to find the most expensive product.\nAction: sql_db_query\nAction Input: \"SELECT Name, MAX(ListPrice) AS MaxPrice FROM SalesLT.Product\"\u001b[0m\u001b[36;1m\u001b[1;3mError: (pyodbc.ProgrammingError) ('42000', \"[42000] [Microsoft][ODBC Driver 18 for SQL Server][SQL Server]Column 'SalesLT.Product.Name' is invalid in the select list because it is not contained in either an aggregate function or the GROUP BY clause. (8120) (SQLExecDirectW)\")\n[SQL: SELECT Name, MAX(ListPrice) AS MaxPrice FROM SalesLT.Product]\n(Background on this error at: https://sqlalche.me/e/20/f405)\u001b[0m\u001b[32;1m\u001b[1;3mThe error message indicates a problem with the SQL query. When using aggregate functions like MAX, any selected columns not included in the aggregate function should be included in a GROUP BY clause. However, in this case, we want the name of the product with the maximum price, not the maximum price per product. Therefore, I need to revise the query to first find the maximum price, and then find the product(s) with that price.\nAction: sql_db_query_checker\nAction Input: \"SELECT Name, ListPrice FROM SalesLT.Product WHERE ListPrice = (SELECT MAX(ListPrice) FROM SalesLT.Product)\"\u001b[0m\u001b[36;1m\u001b[1;3mSELECT Name, ListPrice FROM SalesLT.Product WHERE ListPrice = (SELECT MAX(ListPrice) FROM SalesLT.Product)\u001b[0m\u001b[32;1m\u001b[1;3mThe SQL query syntax appears to be correct. Now, I will execute the query to find the most expensive product.\nAction: sql_db_query\nAction Input: \"SELECT Name, ListPrice FROM SalesLT.Product WHERE ListPrice = (SELECT MAX(ListPrice) FROM SalesLT.Product)\"\u001b[0m\u001b[36;1m\u001b[1;3m[('Road-150 Red, 62', Decimal('3578.2700')), ('Road-150 Red, 44', Decimal('3578.2700')), ('Road-150 Red, 48', Decimal('3578.2700')), ('Road-150 Red, 52', Decimal('3578.2700')), ('Road-150 Red, 56', Decimal('3578.2700'))]\u001b[0m\u001b[32;1m\u001b[1;3mI now know the final answer. The most expensive product is the 'Road-150 Red' in various sizes, all with a list price of 3578.27.\nFinal Answer: The most expensive product is the 'Road-150 Red' in sizes 62, 44, 48, 52, and 56, all with a list price of 3578.27.\u001b[0m\n\n\u001b[1m> Finished chain.\u001b[0m\n"
          ]
        },
        {
          "output_type": "execute_result",
          "execution_count": 21,
          "data": {
            "text/plain": "\"The most expensive product is the 'Road-150 Red' in sizes 62, 44, 48, 52, and 56, all with a list price of 3578.27.\""
          },
          "metadata": {}
        }
      ],
      "execution_count": 9,
      "metadata": {
        "jupyter": {
          "source_hidden": false,
          "outputs_hidden": false
        },
        "nteract": {
          "transient": {
            "deleting": false
          }
        }
      }
    }
  ],
  "metadata": {
    "kernelspec": {
      "name": "synapse_pyspark",
      "display_name": "python"
    },
    "language_info": {
      "name": "python"
    },
    "description": null,
    "save_output": true,
    "synapse_widget": {
      "version": "0.1",
      "state": {}
    }
  },
  "nbformat": 4,
  "nbformat_minor": 2
}