{
  "cells": [
    {
      "cell_type": "markdown",
      "source": [
        "### Simple Python AOAI KQL  \r\n",
        "\r\n",
        "from this source:  \r\n",
        "https://techcommunity.microsoft.com/t5/startups-at-microsoft/building-a-self-serve-analytics-platform-with-azure-data/ba-p/3875484"
      ],
      "metadata": {
        "nteract": {
          "transient": {
            "deleting": false
          }
        }
      }
    },
    {
      "cell_type": "code",
      "source": [
        "!pip install azure-kusto-data\r\n",
        "!pip install --upgrade openai\r\n",
        "!pip install utils"
      ],
      "outputs": [
        {
          "output_type": "display_data",
          "data": {
            "application/vnd.livy.statement-meta+json": {
              "spark_pool": "SampleSpark",
              "statement_id": 12,
              "statement_ids": [
                12
              ],
              "livy_statement_state": "available",
              "spark_jobs": null,
              "session_id": "5",
              "state": "finished",
              "normalized_state": "finished",
              "queued_time": "2024-07-10T02:04:45.7033523Z",
              "session_start_time": null,
              "execution_start_time": "2024-07-10T02:04:45.8553704Z",
              "execution_finish_time": "2024-07-10T02:04:56.5384172Z",
              "parent_msg_id": "a560e9d9-a865-45ec-9f4f-8021b3adcbdd"
            },
            "text/plain": "StatementMeta(SampleSpark, 5, 12, Finished, Available, Finished)"
          },
          "metadata": {}
        },
        {
          "output_type": "stream",
          "name": "stdout",
          "text": [
            "Requirement already satisfied: azure-kusto-data in /home/trusted-service-user/cluster-env/env/lib/python3.10/site-packages (4.5.1)\nRequirement already satisfied: python-dateutil>=2.8.0 in /home/trusted-service-user/cluster-env/env/lib/python3.10/site-packages (from azure-kusto-data) (2.9.0)\nRequirement already satisfied: requests>=2.13.0 in /home/trusted-service-user/cluster-env/env/lib/python3.10/site-packages (from azure-kusto-data) (2.31.0)\nRequirement already satisfied: azure-identity<2,>=1.5.0 in /home/trusted-service-user/cluster-env/env/lib/python3.10/site-packages (from azure-kusto-data) (1.15.0)\nRequirement already satisfied: msal<2,>=1.9.0 in /home/trusted-service-user/cluster-env/env/lib/python3.10/site-packages (from azure-kusto-data) (1.27.0)\nRequirement already satisfied: ijson~=3.1 in /home/trusted-service-user/cluster-env/env/lib/python3.10/site-packages (from azure-kusto-data) (3.3.0)\nRequirement already satisfied: azure-core<2,>=1.11.0 in /home/trusted-service-user/cluster-env/env/lib/python3.10/site-packages (from azure-kusto-data) (1.30.1)\nRequirement already satisfied: six>=1.11.0 in /home/trusted-service-user/cluster-env/env/lib/python3.10/site-packages (from azure-core<2,>=1.11.0->azure-kusto-data) (1.16.0)\nRequirement already satisfied: typing-extensions>=4.6.0 in /home/trusted-service-user/cluster-env/env/lib/python3.10/site-packages (from azure-core<2,>=1.11.0->azure-kusto-data) (4.10.0)\nRequirement already satisfied: cryptography>=2.5 in /home/trusted-service-user/cluster-env/env/lib/python3.10/site-packages (from azure-identity<2,>=1.5.0->azure-kusto-data) (41.0.7)\nRequirement already satisfied: msal-extensions<2.0.0,>=0.3.0 in /home/trusted-service-user/cluster-env/env/lib/python3.10/site-packages (from azure-identity<2,>=1.5.0->azure-kusto-data) (1.1.0)\nRequirement already satisfied: PyJWT[crypto]<3,>=1.0.0 in /home/trusted-service-user/cluster-env/env/lib/python3.10/site-packages (from msal<2,>=1.9.0->azure-kusto-data) (2.8.0)\nRequirement already satisfied: charset-normalizer<4,>=2 in /home/trusted-service-user/cluster-env/env/lib/python3.10/site-packages (from requests>=2.13.0->azure-kusto-data) (3.3.2)\nRequirement already satisfied: idna<4,>=2.5 in /home/trusted-service-user/cluster-env/env/lib/python3.10/site-packages (from requests>=2.13.0->azure-kusto-data) (3.6)\nRequirement already satisfied: urllib3<3,>=1.21.1 in /home/trusted-service-user/cluster-env/env/lib/python3.10/site-packages (from requests>=2.13.0->azure-kusto-data) (2.1.0)\nRequirement already satisfied: certifi>=2017.4.17 in /home/trusted-service-user/cluster-env/env/lib/python3.10/site-packages (from requests>=2.13.0->azure-kusto-data) (2024.2.2)\nRequirement already satisfied: cffi>=1.12 in /home/trusted-service-user/cluster-env/env/lib/python3.10/site-packages (from cryptography>=2.5->azure-identity<2,>=1.5.0->azure-kusto-data) (1.16.0)\nRequirement already satisfied: packaging in /home/trusted-service-user/cluster-env/env/lib/python3.10/site-packages (from msal-extensions<2.0.0,>=0.3.0->azure-identity<2,>=1.5.0->azure-kusto-data) (23.2)\nRequirement already satisfied: portalocker<3,>=1.0 in /home/trusted-service-user/cluster-env/env/lib/python3.10/site-packages (from msal-extensions<2.0.0,>=0.3.0->azure-identity<2,>=1.5.0->azure-kusto-data) (2.8.2)\nRequirement already satisfied: pycparser in /home/trusted-service-user/cluster-env/env/lib/python3.10/site-packages (from cffi>=1.12->cryptography>=2.5->azure-identity<2,>=1.5.0->azure-kusto-data) (2.21)\nCollecting openai\n  Downloading openai-1.35.12-py3-none-any.whl (328 kB)\n\u001b[2K     \u001b[90m━━━━━━━━━━━━━━━━━━━━━━━━━━━━━━━━━━━━━━\u001b[0m \u001b[32m328.4/328.4 kB\u001b[0m \u001b[31m24.2 MB/s\u001b[0m eta \u001b[36m0:00:00\u001b[0m\n\u001b[?25hRequirement already satisfied: anyio<5,>=3.5.0 in /home/trusted-service-user/cluster-env/env/lib/python3.10/site-packages (from openai) (3.7.1)\nCollecting distro<2,>=1.7.0 (from openai)\n  Downloading distro-1.9.0-py3-none-any.whl (20 kB)\nCollecting httpx<1,>=0.23.0 (from openai)\n  Downloading httpx-0.27.0-py3-none-any.whl (75 kB)\n\u001b[2K     \u001b[90m━━━━━━━━━━━━━━━━━━━━━━━━━━━━━━━━━━━━━━━━\u001b[0m \u001b[32m75.6/75.6 kB\u001b[0m \u001b[31m27.3 MB/s\u001b[0m eta \u001b[36m0:00:00\u001b[0m\n\u001b[?25hCollecting pydantic<3,>=1.9.0 (from openai)\n  Downloading pydantic-2.8.2-py3-none-any.whl (423 kB)\n\u001b[2K     \u001b[90m━━━━━━━━━━━━━━━━━━━━━━━━━━━━━━━━━━━━━━\u001b[0m \u001b[32m423.9/423.9 kB\u001b[0m \u001b[31m82.8 MB/s\u001b[0m eta \u001b[36m0:00:00\u001b[0m\n\u001b[?25hRequirement already satisfied: sniffio in /home/trusted-service-user/cluster-env/env/lib/python3.10/site-packages (from openai) (1.3.1)\nRequirement already satisfied: tqdm>4 in /home/trusted-service-user/cluster-env/env/lib/python3.10/site-packages (from openai) (4.66.2)\nRequirement already satisfied: typing-extensions<5,>=4.7 in /home/trusted-service-user/cluster-env/env/lib/python3.10/site-packages (from openai) (4.10.0)\nRequirement already satisfied: idna>=2.8 in /home/trusted-service-user/cluster-env/env/lib/python3.10/site-packages (from anyio<5,>=3.5.0->openai) (3.6)\nRequirement already satisfied: exceptiongroup in /home/trusted-service-user/cluster-env/env/lib/python3.10/site-packages (from anyio<5,>=3.5.0->openai) (1.2.0)\nRequirement already satisfied: certifi in /home/trusted-service-user/cluster-env/env/lib/python3.10/site-packages (from httpx<1,>=0.23.0->openai) (2024.2.2)\nCollecting httpcore==1.* (from httpx<1,>=0.23.0->openai)\n  Downloading httpcore-1.0.5-py3-none-any.whl (77 kB)\n\u001b[2K     \u001b[90m━━━━━━━━━━━━━━━━━━━━━━━━━━━━━━━━━━━━━━━━\u001b[0m \u001b[32m77.9/77.9 kB\u001b[0m \u001b[31m27.5 MB/s\u001b[0m eta \u001b[36m0:00:00\u001b[0m\n\u001b[?25hCollecting h11<0.15,>=0.13 (from httpcore==1.*->httpx<1,>=0.23.0->openai)\n  Downloading h11-0.14.0-py3-none-any.whl (58 kB)\n\u001b[2K     \u001b[90m━━━━━━━━━━━━━━━━━━━━━━━━━━━━━━━━━━━━━━━━\u001b[0m \u001b[32m58.3/58.3 kB\u001b[0m \u001b[31m20.2 MB/s\u001b[0m eta \u001b[36m0:00:00\u001b[0m\n\u001b[?25hCollecting annotated-types>=0.4.0 (from pydantic<3,>=1.9.0->openai)\n  Downloading annotated_types-0.7.0-py3-none-any.whl (13 kB)\nCollecting pydantic-core==2.20.1 (from pydantic<3,>=1.9.0->openai)\n  Downloading pydantic_core-2.20.1-cp310-cp310-manylinux_2_17_x86_64.manylinux2014_x86_64.whl (2.1 MB)\n\u001b[2K     \u001b[90m━━━━━━━━━━━━━━━━━━━━━━━━━━━━━━━━━━━━━━━━\u001b[0m \u001b[32m2.1/2.1 MB\u001b[0m \u001b[31m91.8 MB/s\u001b[0m eta \u001b[36m0:00:00\u001b[0m\n\u001b[?25hInstalling collected packages: pydantic-core, h11, distro, annotated-types, pydantic, httpcore, httpx, openai\nSuccessfully installed annotated-types-0.7.0 distro-1.9.0 h11-0.14.0 httpcore-1.0.5 httpx-0.27.0 openai-1.35.12 pydantic-2.8.2 pydantic-core-2.20.1\nRequirement already satisfied: utils in /home/trusted-service-user/cluster-env/env/lib/python3.10/site-packages (1.0.2)\n"
          ]
        }
      ],
      "execution_count": 12,
      "metadata": {
        "jupyter": {
          "source_hidden": false,
          "outputs_hidden": true
        },
        "nteract": {
          "transient": {
            "deleting": false
          }
        }
      }
    },
    {
      "cell_type": "code",
      "source": [
        "AAD_TENANT_ID = \"<USEYOUROWN>\"\r\n",
        "KUSTO_CLUSTER =  \"https://<USEYOUROWN>.kusto.windows.net\"\r\n",
        "KUSTO_DATABASE = \"<USEYOUROWN>\"\r\n",
        "KUSTO_TABLE = \"<USEYOUROWN>\"\r\n",
        "KUSTO_MANAGED_IDENTITY_APP_ID = \"<USEYOUROWN>\"\r\n",
        "KUSTO_MANAGED_IDENTITY_SECRET = \"<USEYOUROWN>\""
      ],
      "outputs": [
        {
          "output_type": "display_data",
          "data": {
            "application/vnd.livy.statement-meta+json": {
              "spark_pool": "SampleSpark",
              "statement_id": 13,
              "statement_ids": [
                13
              ],
              "livy_statement_state": "available",
              "spark_jobs": null,
              "session_id": "5",
              "state": "finished",
              "normalized_state": "finished",
              "queued_time": "2024-07-10T02:04:58.1886778Z",
              "session_start_time": null,
              "execution_start_time": "2024-07-10T02:04:58.3232453Z",
              "execution_finish_time": "2024-07-10T02:04:58.4810209Z",
              "parent_msg_id": "1a69459b-a579-4f16-bc93-551ddbc9aba2"
            },
            "text/plain": "StatementMeta(SampleSpark, 5, 13, Finished, Available, Finished)"
          },
          "metadata": {}
        }
      ],
      "execution_count": 13,
      "metadata": {
        "jupyter": {
          "source_hidden": false,
          "outputs_hidden": false
        },
        "nteract": {
          "transient": {
            "deleting": false
          }
        }
      }
    },
    {
      "cell_type": "code",
      "source": [
        "OPENAI_ENDPOINT = \"https://<USEYOUROWN>.openai.azure.com/\"\r\n",
        "API_KEY = \"<USEYOUROWN>\"\r\n",
        "OPENAI_DEPLOYMENT = \"gpt-35-turbo\"\r\n",
        "API_VERSION = \"2023-03-15-preview\"\r\n",
        "OPENAI_MODEL=\"gpt-35-turbo\"\r\n",
        "OPENAI_DEPLOYMENT = \"gpt-4o\"\r\n",
        "API_VERSION = \"2023-03-15-preview\"\r\n",
        "OPENAI_MODEL=\"gpt-4o\""
      ],
      "outputs": [
        {
          "output_type": "display_data",
          "data": {
            "application/vnd.livy.statement-meta+json": {
              "spark_pool": "SampleSpark",
              "statement_id": 14,
              "statement_ids": [
                14
              ],
              "livy_statement_state": "available",
              "spark_jobs": null,
              "session_id": "5",
              "state": "finished",
              "normalized_state": "finished",
              "queued_time": "2024-07-10T02:05:01.2665634Z",
              "session_start_time": null,
              "execution_start_time": "2024-07-10T02:05:01.4158296Z",
              "execution_finish_time": "2024-07-10T02:05:01.5757438Z",
              "parent_msg_id": "23a364a7-8a7d-4ed6-990e-f1dca54081a9"
            },
            "text/plain": "StatementMeta(SampleSpark, 5, 14, Finished, Available, Finished)"
          },
          "metadata": {}
        }
      ],
      "execution_count": 14,
      "metadata": {
        "jupyter": {
          "source_hidden": false,
          "outputs_hidden": false
        },
        "nteract": {
          "transient": {
            "deleting": false
          }
        }
      }
    },
    {
      "cell_type": "code",
      "source": [
        "from azure.kusto.data import KustoClient, KustoConnectionStringBuilder\r\n",
        "from azure.kusto.data.exceptions import KustoServiceError\r\n",
        "from azure.kusto.data.helpers import dataframe_from_result_table\r\n",
        "import utils\r\n",
        "import pandas as pd\r\n",
        "import os\r\n",
        "import openai\r\n",
        "import json "
      ],
      "outputs": [
        {
          "output_type": "display_data",
          "data": {
            "application/vnd.livy.statement-meta+json": {
              "spark_pool": "SampleSpark",
              "statement_id": 15,
              "statement_ids": [
                15
              ],
              "livy_statement_state": "available",
              "spark_jobs": null,
              "session_id": "5",
              "state": "finished",
              "normalized_state": "finished",
              "queued_time": "2024-07-10T02:05:03.2985013Z",
              "session_start_time": null,
              "execution_start_time": "2024-07-10T02:05:03.4333464Z",
              "execution_finish_time": "2024-07-10T02:05:04.5272805Z",
              "parent_msg_id": "3849a34e-6532-4a9a-97ef-383fae134396"
            },
            "text/plain": "StatementMeta(SampleSpark, 5, 15, Finished, Available, Finished)"
          },
          "metadata": {}
        }
      ],
      "execution_count": 15,
      "metadata": {
        "jupyter": {
          "source_hidden": false,
          "outputs_hidden": false
        },
        "nteract": {
          "transient": {
            "deleting": false
          }
        }
      }
    },
    {
      "cell_type": "code",
      "source": [
        "cluster = KUSTO_CLUSTER\r\n",
        "kcsb = KustoConnectionStringBuilder.with_aad_application_key_authentication(cluster, KUSTO_MANAGED_IDENTITY_APP_ID, KUSTO_MANAGED_IDENTITY_SECRET,  AAD_TENANT_ID)\r\n",
        "kustoclient = KustoClient(kcsb)"
      ],
      "outputs": [
        {
          "output_type": "display_data",
          "data": {
            "application/vnd.livy.statement-meta+json": {
              "spark_pool": "SampleSpark",
              "statement_id": 16,
              "statement_ids": [
                16
              ],
              "livy_statement_state": "available",
              "spark_jobs": null,
              "session_id": "5",
              "state": "finished",
              "normalized_state": "finished",
              "queued_time": "2024-07-10T02:05:06.7153057Z",
              "session_start_time": null,
              "execution_start_time": "2024-07-10T02:05:06.8528108Z",
              "execution_finish_time": "2024-07-10T02:05:07.0262084Z",
              "parent_msg_id": "1fb0634b-aa42-45f1-8965-9b365d67b733"
            },
            "text/plain": "StatementMeta(SampleSpark, 5, 16, Finished, Available, Finished)"
          },
          "metadata": {}
        }
      ],
      "execution_count": 16,
      "metadata": {
        "jupyter": {
          "source_hidden": false,
          "outputs_hidden": false
        },
        "nteract": {
          "transient": {
            "deleting": false
          }
        }
      }
    },
    {
      "cell_type": "code",
      "source": [
        "query = \"APT29 | take 10\"\r\n",
        "\r\n",
        "response = kustoclient.execute(\"cdldb\", query)\r\n",
        "for row in response.primary_results[0]:\r\n",
        "    print(\"Item:{}\".format(row[\"Message\"]))"
      ],
      "outputs": [
        {
          "output_type": "display_data",
          "data": {
            "application/vnd.livy.statement-meta+json": {
              "spark_pool": "SampleSpark",
              "statement_id": 17,
              "statement_ids": [
                17
              ],
              "livy_statement_state": "available",
              "spark_jobs": null,
              "session_id": "5",
              "state": "finished",
              "normalized_state": "finished",
              "queued_time": "2024-07-10T02:05:08.8511507Z",
              "session_start_time": null,
              "execution_start_time": "2024-07-10T02:05:08.985487Z",
              "execution_finish_time": "2024-07-10T02:05:09.5135476Z",
              "parent_msg_id": "daa171e1-f06b-45d5-ad88-2b9a563e90b6"
            },
            "text/plain": "StatementMeta(SampleSpark, 5, 17, Finished, Available, Finished)"
          },
          "metadata": {}
        },
        {
          "output_type": "stream",
          "name": "stdout",
          "text": [
            "Item:Process accessed:\r\nRuleName: -\r\nUtcTime: 2024-06-08 02:55:23.551\r\nSourceProcessGUID: {6bbf237a-cafb-5eac-1000-000000000400}\r\nSourceProcessId: 900\r\nSourceThreadId: 504\r\nSourceImage: C:\\windows\\system32\\svchost.exe\r\nTargetProcessGUID: {6bbf237a-cb97-5eac-6202-000000000400}\r\nTargetProcessId: 2092\r\nTargetImage: C:\\windows\\System32\\svchost.exe\r\nGrantedAccess: 0x1000\r\nCallTrace: C:\\windows\\SYSTEM32\\ntdll.dll+9c584|C:\\windows\\SYSTEM32\\psmserviceexthost.dll+222a3|C:\\windows\\SYSTEM32\\psmserviceexthost.dll+1a172|C:\\windows\\SYSTEM32\\psmserviceexthost.dll+19e3b|C:\\windows\\SYSTEM32\\psmserviceexthost.dll+19318|C:\\windows\\SYSTEM32\\ntdll.dll+3089d|C:\\windows\\SYSTEM32\\ntdll.dll+34634|C:\\windows\\System32\\KERNEL32.DLL+17bd4|C:\\windows\\SYSTEM32\\ntdll.dll+6ced1\nItem:Process accessed:\r\nRuleName: -\r\nUtcTime: 2024-06-08 02:55:23.551\r\nSourceProcessGUID: {6bbf237a-cafb-5eac-1000-000000000400}\r\nSourceProcessId: 900\r\nSourceThreadId: 504\r\nSourceImage: C:\\windows\\system32\\svchost.exe\r\nTargetProcessGUID: {6bbf237a-cb97-5eac-6202-000000000400}\r\nTargetProcessId: 2092\r\nTargetImage: C:\\windows\\System32\\svchost.exe\r\nGrantedAccess: 0x1000\r\nCallTrace: C:\\windows\\SYSTEM32\\ntdll.dll+9c584|C:\\windows\\SYSTEM32\\psmserviceexthost.dll+222a3|C:\\windows\\SYSTEM32\\psmserviceexthost.dll+1a172|C:\\windows\\SYSTEM32\\psmserviceexthost.dll+19e3b|C:\\windows\\SYSTEM32\\psmserviceexthost.dll+19318|C:\\windows\\SYSTEM32\\ntdll.dll+3089d|C:\\windows\\SYSTEM32\\ntdll.dll+34634|C:\\windows\\System32\\KERNEL32.DLL+17bd4|C:\\windows\\SYSTEM32\\ntdll.dll+6ced1\nItem:Process accessed:\r\nRuleName: -\r\nUtcTime: 2024-06-08 02:55:23.551\r\nSourceProcessGUID: {6bbf237a-cafb-5eac-1000-000000000400}\r\nSourceProcessId: 900\r\nSourceThreadId: 972\r\nSourceImage: C:\\windows\\system32\\svchost.exe\r\nTargetProcessGUID: {6bbf237a-cb97-5eac-6202-000000000400}\r\nTargetProcessId: 2092\r\nTargetImage: C:\\windows\\System32\\svchost.exe\r\nGrantedAccess: 0x1000\r\nCallTrace: C:\\windows\\SYSTEM32\\ntdll.dll+9c584|C:\\windows\\SYSTEM32\\psmserviceexthost.dll+222a3|C:\\windows\\SYSTEM32\\psmserviceexthost.dll+1a172|C:\\windows\\SYSTEM32\\psmserviceexthost.dll+19e3b|C:\\windows\\SYSTEM32\\psmserviceexthost.dll+19318|C:\\windows\\SYSTEM32\\ntdll.dll+3089d|C:\\windows\\SYSTEM32\\ntdll.dll+34634|C:\\windows\\System32\\KERNEL32.DLL+17bd4|C:\\windows\\SYSTEM32\\ntdll.dll+6ced1\nItem:Process accessed:\r\nRuleName: -\r\nUtcTime: 2024-06-08 02:55:23.567\r\nSourceProcessGUID: {6bbf237a-cafb-5eac-1000-000000000400}\r\nSourceProcessId: 900\r\nSourceThreadId: 972\r\nSourceImage: C:\\windows\\system32\\svchost.exe\r\nTargetProcessGUID: {6bbf237a-cb97-5eac-6202-000000000400}\r\nTargetProcessId: 2092\r\nTargetImage: C:\\windows\\System32\\svchost.exe\r\nGrantedAccess: 0x1000\r\nCallTrace: C:\\windows\\SYSTEM32\\ntdll.dll+9c584|C:\\windows\\SYSTEM32\\psmserviceexthost.dll+222a3|C:\\windows\\SYSTEM32\\psmserviceexthost.dll+1a172|C:\\windows\\SYSTEM32\\psmserviceexthost.dll+19e3b|C:\\windows\\SYSTEM32\\psmserviceexthost.dll+19318|C:\\windows\\SYSTEM32\\ntdll.dll+3089d|C:\\windows\\SYSTEM32\\ntdll.dll+34634|C:\\windows\\System32\\KERNEL32.DLL+17bd4|C:\\windows\\SYSTEM32\\ntdll.dll+6ced1\nItem:Process accessed:\r\nRuleName: -\r\nUtcTime: 2024-06-08 02:55:24.215\r\nSourceProcessGUID: {5aa8ec29-cad8-5eac-1000-000000000400}\r\nSourceProcessId: 884\r\nSourceThreadId: 5792\r\nSourceImage: C:\\windows\\system32\\svchost.exe\r\nTargetProcessGUID: {5aa8ec29-cba2-5eac-6e02-000000000400}\r\nTargetProcessId: 2980\r\nTargetImage: C:\\windows\\System32\\svchost.exe\r\nGrantedAccess: 0x1000\r\nCallTrace: C:\\windows\\SYSTEM32\\ntdll.dll+9c584|C:\\windows\\SYSTEM32\\psmserviceexthost.dll+222a3|C:\\windows\\SYSTEM32\\psmserviceexthost.dll+1a172|C:\\windows\\SYSTEM32\\psmserviceexthost.dll+19e3b|C:\\windows\\SYSTEM32\\psmserviceexthost.dll+19318|C:\\windows\\SYSTEM32\\ntdll.dll+3089d|C:\\windows\\SYSTEM32\\ntdll.dll+34634|C:\\windows\\System32\\KERNEL32.DLL+17bd4|C:\\windows\\SYSTEM32\\ntdll.dll+6ced1\nItem:Process accessed:\r\nRuleName: -\r\nUtcTime: 2024-06-08 02:55:24.215\r\nSourceProcessGUID: {5aa8ec29-cad8-5eac-1000-000000000400}\r\nSourceProcessId: 884\r\nSourceThreadId: 5792\r\nSourceImage: C:\\windows\\system32\\svchost.exe\r\nTargetProcessGUID: {5aa8ec29-cba2-5eac-6e02-000000000400}\r\nTargetProcessId: 2980\r\nTargetImage: C:\\windows\\System32\\svchost.exe\r\nGrantedAccess: 0x1000\r\nCallTrace: C:\\windows\\SYSTEM32\\ntdll.dll+9c584|C:\\windows\\SYSTEM32\\psmserviceexthost.dll+222a3|C:\\windows\\SYSTEM32\\psmserviceexthost.dll+1a172|C:\\windows\\SYSTEM32\\psmserviceexthost.dll+19e3b|C:\\windows\\SYSTEM32\\psmserviceexthost.dll+19318|C:\\windows\\SYSTEM32\\ntdll.dll+3089d|C:\\windows\\SYSTEM32\\ntdll.dll+34634|C:\\windows\\System32\\KERNEL32.DLL+17bd4|C:\\windows\\SYSTEM32\\ntdll.dll+6ced1\nItem:Process accessed:\r\nRuleName: -\r\nUtcTime: 2024-06-08 02:55:24.215\r\nSourceProcessGUID: {5aa8ec29-cad8-5eac-1000-000000000400}\r\nSourceProcessId: 884\r\nSourceThreadId: 5708\r\nSourceImage: C:\\windows\\system32\\svchost.exe\r\nTargetProcessGUID: {5aa8ec29-cba2-5eac-6e02-000000000400}\r\nTargetProcessId: 2980\r\nTargetImage: C:\\windows\\System32\\svchost.exe\r\nGrantedAccess: 0x1000\r\nCallTrace: C:\\windows\\SYSTEM32\\ntdll.dll+9c584|C:\\windows\\SYSTEM32\\psmserviceexthost.dll+222a3|C:\\windows\\SYSTEM32\\psmserviceexthost.dll+1a172|C:\\windows\\SYSTEM32\\psmserviceexthost.dll+19e3b|C:\\windows\\SYSTEM32\\psmserviceexthost.dll+19318|C:\\windows\\SYSTEM32\\ntdll.dll+3089d|C:\\windows\\SYSTEM32\\ntdll.dll+34634|C:\\windows\\System32\\KERNEL32.DLL+17bd4|C:\\windows\\SYSTEM32\\ntdll.dll+6ced1\nItem:Process accessed:\r\nRuleName: -\r\nUtcTime: 2024-06-08 02:55:24.215\r\nSourceProcessGUID: {5aa8ec29-cad8-5eac-1000-000000000400}\r\nSourceProcessId: 884\r\nSourceThreadId: 5708\r\nSourceImage: C:\\windows\\system32\\svchost.exe\r\nTargetProcessGUID: {5aa8ec29-cba2-5eac-6e02-000000000400}\r\nTargetProcessId: 2980\r\nTargetImage: C:\\windows\\System32\\svchost.exe\r\nGrantedAccess: 0x1000\r\nCallTrace: C:\\windows\\SYSTEM32\\ntdll.dll+9c584|C:\\windows\\SYSTEM32\\psmserviceexthost.dll+222a3|C:\\windows\\SYSTEM32\\psmserviceexthost.dll+1a172|C:\\windows\\SYSTEM32\\psmserviceexthost.dll+19e3b|C:\\windows\\SYSTEM32\\psmserviceexthost.dll+19318|C:\\windows\\SYSTEM32\\ntdll.dll+3089d|C:\\windows\\SYSTEM32\\ntdll.dll+34634|C:\\windows\\System32\\KERNEL32.DLL+17bd4|C:\\windows\\SYSTEM32\\ntdll.dll+6ced1\nItem:Process accessed:\r\nRuleName: -\r\nUtcTime: 2024-06-08 02:55:24.636\r\nSourceProcessGUID: {6bbf237a-cafb-5eac-1000-000000000400}\r\nSourceProcessId: 900\r\nSourceThreadId: 504\r\nSourceImage: C:\\windows\\system32\\svchost.exe\r\nTargetProcessGUID: {6bbf237a-cb97-5eac-6202-000000000400}\r\nTargetProcessId: 2092\r\nTargetImage: C:\\windows\\System32\\svchost.exe\r\nGrantedAccess: 0x1000\r\nCallTrace: C:\\windows\\SYSTEM32\\ntdll.dll+9c584|C:\\windows\\SYSTEM32\\psmserviceexthost.dll+222a3|C:\\windows\\SYSTEM32\\psmserviceexthost.dll+1a172|C:\\windows\\SYSTEM32\\psmserviceexthost.dll+19e3b|C:\\windows\\SYSTEM32\\psmserviceexthost.dll+19318|C:\\windows\\SYSTEM32\\ntdll.dll+3089d|C:\\windows\\SYSTEM32\\ntdll.dll+34634|C:\\windows\\System32\\KERNEL32.DLL+17bd4|C:\\windows\\SYSTEM32\\ntdll.dll+6ced1\nItem:Process accessed:\r\nRuleName: -\r\nUtcTime: 2024-06-08 02:55:24.636\r\nSourceProcessGUID: {6bbf237a-cafb-5eac-1000-000000000400}\r\nSourceProcessId: 900\r\nSourceThreadId: 504\r\nSourceImage: C:\\windows\\system32\\svchost.exe\r\nTargetProcessGUID: {6bbf237a-cb97-5eac-6202-000000000400}\r\nTargetProcessId: 2092\r\nTargetImage: C:\\windows\\System32\\svchost.exe\r\nGrantedAccess: 0x1000\r\nCallTrace: C:\\windows\\SYSTEM32\\ntdll.dll+9c584|C:\\windows\\SYSTEM32\\psmserviceexthost.dll+222a3|C:\\windows\\SYSTEM32\\psmserviceexthost.dll+1a172|C:\\windows\\SYSTEM32\\psmserviceexthost.dll+19e3b|C:\\windows\\SYSTEM32\\psmserviceexthost.dll+19318|C:\\windows\\SYSTEM32\\ntdll.dll+3089d|C:\\windows\\SYSTEM32\\ntdll.dll+34634|C:\\windows\\System32\\KERNEL32.DLL+17bd4|C:\\windows\\SYSTEM32\\ntdll.dll+6ced1\n"
          ]
        }
      ],
      "execution_count": 17,
      "metadata": {
        "jupyter": {
          "source_hidden": false,
          "outputs_hidden": true
        },
        "nteract": {
          "transient": {
            "deleting": false
          }
        }
      }
    },
    {
      "cell_type": "code",
      "source": [
        "query = \"\"\"\r\n",
        "APT29\r\n",
        "| where EventID == 4697\r\n",
        "| take 10\r\n",
        "\"\"\" \r\n",
        "\r\n",
        "response = kustoclient.execute(\"cdldb\", query)\r\n",
        "\r\n",
        "df = dataframe_from_result_table(response.primary_results[0])\r\n",
        "print(df)\r\n",
        "#print(response)\r\n",
        "#for row in response.primary_results[0]:\r\n",
        "# print(\"Item:{}\".format(row[\"Message\"]))"
      ],
      "outputs": [
        {
          "output_type": "display_data",
          "data": {
            "application/vnd.livy.statement-meta+json": {
              "spark_pool": "SampleSpark",
              "statement_id": 18,
              "statement_ids": [
                18
              ],
              "livy_statement_state": "available",
              "spark_jobs": null,
              "session_id": "5",
              "state": "finished",
              "normalized_state": "finished",
              "queued_time": "2024-07-10T02:05:10.930896Z",
              "session_start_time": null,
              "execution_start_time": "2024-07-10T02:05:11.0618615Z",
              "execution_finish_time": "2024-07-10T02:05:11.2144536Z",
              "parent_msg_id": "b493f195-192d-4ae4-ab9b-f88741be4b56"
            },
            "text/plain": "StatementMeta(SampleSpark, 5, 18, Finished, Available, Finished)"
          },
          "metadata": {}
        },
        {
          "output_type": "stream",
          "name": "stdout",
          "text": [
            "                  EventTime   port  \\\n0 2024-06-07 23:04:15+00:00  60737   \n1 2024-06-07 23:11:39+00:00  60737   \n2 2024-06-07 23:12:46+00:00  60737   \n3 2024-06-07 23:13:49+00:00  60737   \n4 2024-06-07 23:15:03+00:00  60737   \n5 2024-06-07 23:20:48+00:00  60737   \n6 2024-06-07 23:20:48+00:00  60737   \n7 2024-06-07 23:20:48+00:00  60737   \n8 2024-06-07 23:20:48+00:00  60737   \n9 2024-06-07 23:20:48+00:00  60737   \n\n                                             Message  SourceThreadId  EventID  \\\n0  A service was installed in the system.\\r\\n\\r\\n...            <NA>     4697   \n1  A service was installed in the system.\\r\\n\\r\\n...            <NA>     4697   \n2  A service was installed in the system.\\r\\n\\r\\n...            <NA>     4697   \n3  A service was installed in the system.\\r\\n\\r\\n...            <NA>     4697   \n4  A service was installed in the system.\\r\\n\\r\\n...            <NA>     4697   \n5  A service was installed in the system.\\r\\n\\r\\n...            <NA>     4697   \n6  A service was installed in the system.\\r\\n\\r\\n...            <NA>     4697   \n7  A service was installed in the system.\\r\\n\\r\\n...            <NA>     4697   \n8  A service was installed in the system.\\r\\n\\r\\n...            <NA>     4697   \n9  A service was installed in the system.\\r\\n\\r\\n...            <NA>     4697   \n\n  TargetProcessId SourceModuleName             tags  _version SourceImage  \\\n0                         eventlog  [mordorDataset]         1               \n1                         eventlog  [mordorDataset]         1               \n2                         eventlog  [mordorDataset]         1               \n3                         eventlog  [mordorDataset]         1               \n4                         eventlog  [mordorDataset]         1               \n5                         eventlog  [mordorDataset]         1               \n6                         eventlog  [mordorDataset]         1               \n7                         eventlog  [mordorDataset]         1               \n8                         eventlog  [mordorDataset]         1               \n9                         eventlog  [mordorDataset]         1               \n\n   ... RestrictedSidCount AccessReason TransactionId AccessList  AccessMask  \\\n0  ...               <NA>                       None                          \n1  ...               <NA>                       None                          \n2  ...               <NA>                       None                          \n3  ...               <NA>                       None                          \n4  ...               <NA>                       None                          \n5  ...               <NA>                       None                          \n6  ...               <NA>                       None                          \n7  ...               <NA>                       None                          \n8  ...               <NA>                       None                          \n9  ...               <NA>                       None                          \n\n   ResourceAttributes ObjectName QueryName QueryResults QueryStatus  \n0                                                              <NA>  \n1                                                              <NA>  \n2                                                              <NA>  \n3                                                              <NA>  \n4                                                              <NA>  \n5                                                              <NA>  \n6                                                              <NA>  \n7                                                              <NA>  \n8                                                              <NA>  \n9                                                              <NA>  \n\n[10 rows x 146 columns]\n"
          ]
        }
      ],
      "execution_count": 18,
      "metadata": {
        "jupyter": {
          "source_hidden": false,
          "outputs_hidden": true
        },
        "nteract": {
          "transient": {
            "deleting": false
          }
        }
      }
    },
    {
      "cell_type": "code",
      "source": [
        "from openai import AzureOpenAI\r\n",
        "\r\n",
        "aoaiclient = AzureOpenAI(\r\n",
        "    api_key=API_KEY,  \r\n",
        "    api_version=API_VERSION,\r\n",
        "    azure_endpoint=OPENAI_ENDPOINT\r\n",
        ")"
      ],
      "outputs": [
        {
          "output_type": "display_data",
          "data": {
            "application/vnd.livy.statement-meta+json": {
              "spark_pool": "SampleSpark",
              "statement_id": 20,
              "statement_ids": [
                20
              ],
              "livy_statement_state": "available",
              "spark_jobs": null,
              "session_id": "5",
              "state": "finished",
              "normalized_state": "finished",
              "queued_time": "2024-07-10T02:05:28.396949Z",
              "session_start_time": null,
              "execution_start_time": "2024-07-10T02:05:28.5513661Z",
              "execution_finish_time": "2024-07-10T02:05:28.7045265Z",
              "parent_msg_id": "5aa72328-5621-40a7-b0e4-76d55dfe22de"
            },
            "text/plain": "StatementMeta(SampleSpark, 5, 20, Finished, Available, Finished)"
          },
          "metadata": {}
        }
      ],
      "execution_count": 20,
      "metadata": {
        "jupyter": {
          "source_hidden": false,
          "outputs_hidden": false
        },
        "nteract": {
          "transient": {
            "deleting": false
          }
        }
      }
    },
    {
      "cell_type": "code",
      "source": [
        "#test out the AOAI call\r\n",
        "completion = aoaiclient.chat.completions.create(\r\n",
        "    model=OPENAI_DEPLOYMENT,\r\n",
        "    messages=[\r\n",
        "        {\r\n",
        "            \"role\": \"user\",\r\n",
        "            \"content\": \"What cities contain Microsoft Innovation Hubs?\",\r\n",
        "        },\r\n",
        "    ],\r\n",
        ")\r\n",
        "print(completion.model_dump_json(indent=2))"
      ],
      "outputs": [
        {
          "output_type": "display_data",
          "data": {
            "application/vnd.livy.statement-meta+json": {
              "spark_pool": "SampleSpark",
              "statement_id": 23,
              "statement_ids": [
                23
              ],
              "livy_statement_state": "available",
              "spark_jobs": null,
              "session_id": "5",
              "state": "finished",
              "normalized_state": "finished",
              "queued_time": "2024-07-10T02:06:30.9846406Z",
              "session_start_time": null,
              "execution_start_time": "2024-07-10T02:06:31.1141423Z",
              "execution_finish_time": "2024-07-10T02:06:48.0003372Z",
              "parent_msg_id": "b748d551-49af-46d6-a680-f37d33863658"
            },
            "text/plain": "StatementMeta(SampleSpark, 5, 23, Finished, Available, Finished)"
          },
          "metadata": {}
        },
        {
          "output_type": "stream",
          "name": "stdout",
          "text": [
            "{\n  \"id\": \"chatcmpl-9jH17FeOcwpftAs2WtOU4fvocMXFd\",\n  \"choices\": [\n    {\n      \"finish_reason\": \"stop\",\n      \"index\": 0,\n      \"logprobs\": null,\n      \"message\": {\n        \"content\": \"As of my last update in October 2023, Microsoft has established Innovation Hubs in various cities worldwide to promote technology development, foster innovation, and support local communities. Here are some cities known to have such hubs:\\n\\n1. **New York City, USA**\\n2. **Atlanta, USA**\\n3. **Boston, USA**\\n4. **Toronto, Canada**\\n5. **London, UK**\\n6. **Berlin, Germany**\\n7. **Paris, France**\\n8. **Sydney, Australia**\\n9. **Singapore**\\n10. **Tel Aviv, Israel**\\n11. **Bangalore, India**\\n\\nThese hubs serve as centers for collaboration, training, and development, partnering with local businesses, startups, educational institutions, and governments to leverage Microsoft technologies.\\n\\nPlease note that the specific locations and number of Microsoft Innovation Hubs may change over time as the company expands or redirects its initiatives. For the most current information, it's advisable to check Microsoft's official website or contact them directly.\",\n        \"role\": \"assistant\",\n        \"function_call\": null,\n        \"tool_calls\": null\n      }\n    }\n  ],\n  \"created\": 1720577201,\n  \"model\": \"gpt-4o-2024-05-13\",\n  \"object\": \"chat.completion\",\n  \"service_tier\": null,\n  \"system_fingerprint\": \"fp_abc28019ad\",\n  \"usage\": {\n    \"completion_tokens\": 197,\n    \"prompt_tokens\": 15,\n    \"total_tokens\": 212\n  }\n}\n"
          ]
        }
      ],
      "execution_count": 23,
      "metadata": {
        "jupyter": {
          "source_hidden": false,
          "outputs_hidden": false
        },
        "nteract": {
          "transient": {
            "deleting": false
          }
        }
      }
    },
    {
      "cell_type": "code",
      "source": [
        "cyber_system_prompt = f\"\"\"\r\n",
        "You are an Azure Data Explorer (Kusto) assistant that transforms natural language\r\n",
        "questions into KQL queries.  \r\n",
        "There is one Kusto table which is named {KUSTO_TABLE} and contains the following columns: \r\n",
        "EventTime, EventID, Channel, Application, Hostname, DestAddress, DestPort, Hostname\r\n",
        "\r\n",
        "EventID 5156 is a failed login.\r\n",
        "EventID 4697 is scheduled task.\r\n",
        "EventID 4624 is successful login.\r\n",
        "\r\n",
        "Write an KQL query based on the user input. Answer in a concise manner. \r\n",
        "Answer only with the KQL query where the table name is {KUSTO_TABLE}, no extra text.\r\n",
        "\"\"\""
      ],
      "outputs": [
        {
          "output_type": "display_data",
          "data": {
            "application/vnd.livy.statement-meta+json": {
              "spark_pool": "SampleSpark",
              "statement_id": 24,
              "statement_ids": [
                24
              ],
              "livy_statement_state": "available",
              "spark_jobs": null,
              "session_id": "5",
              "state": "finished",
              "normalized_state": "finished",
              "queued_time": "2024-07-10T02:06:35.3369627Z",
              "session_start_time": null,
              "execution_start_time": "2024-07-10T02:06:48.1538633Z",
              "execution_finish_time": "2024-07-10T02:06:48.3096798Z",
              "parent_msg_id": "e2452f6d-6b3c-4b1b-b472-014cc0dffb75"
            },
            "text/plain": "StatementMeta(SampleSpark, 5, 24, Finished, Available, Finished)"
          },
          "metadata": {}
        }
      ],
      "execution_count": 24,
      "metadata": {
        "jupyter": {
          "source_hidden": false,
          "outputs_hidden": false
        },
        "nteract": {
          "transient": {
            "deleting": false
          }
        }
      }
    },
    {
      "cell_type": "code",
      "source": [
        "# define a function to translate the user input to KQL\r\n",
        "# and then launch the KQL query\r\n",
        "def kql_cyber_brain(userquestion):\r\n",
        "    #call\r\n",
        "    print(userquestion)\r\n",
        "    kql_completion = aoaiclient.chat.completions.create(\r\n",
        "        model=OPENAI_DEPLOYMENT,\r\n",
        "        messages=[\r\n",
        "            {   \r\n",
        "                \"role\": \"system\",\r\n",
        "                \"content\": cyber_system_prompt,\r\n",
        "            },\r\n",
        "            {   \r\n",
        "                \"role\": \"user\",\r\n",
        "                \"content\": userquestion,\r\n",
        "            },\r\n",
        "        ],\r\n",
        "    )\r\n",
        "    kql_query = kql_completion.choices[0].message.content\r\n",
        "    kql_query = kql_query.replace(\"```\", \"\").replace(\"kusto\", \"\").replace(\"kql\", \"\")\r\n",
        "    print(kql_query)\r\n",
        "    print(\"----------------\")\r\n",
        "    #run the kql query\r\n",
        "    response = kustoclient.execute(\"cdldb\", kql_query)\r\n",
        "    df = dataframe_from_result_table(response.primary_results[0])\r\n",
        "    print(df)\r\n",
        "    return df"
      ],
      "outputs": [
        {
          "output_type": "display_data",
          "data": {
            "application/vnd.livy.statement-meta+json": {
              "spark_pool": "SampleSpark",
              "statement_id": 26,
              "statement_ids": [
                26
              ],
              "livy_statement_state": "available",
              "spark_jobs": null,
              "session_id": "5",
              "state": "finished",
              "normalized_state": "finished",
              "queued_time": "2024-07-10T02:07:59.1445931Z",
              "session_start_time": null,
              "execution_start_time": "2024-07-10T02:07:59.278701Z",
              "execution_finish_time": "2024-07-10T02:07:59.4252449Z",
              "parent_msg_id": "e3face11-154c-4cd8-8b63-60bfa335b62c"
            },
            "text/plain": "StatementMeta(SampleSpark, 5, 26, Finished, Available, Finished)"
          },
          "metadata": {}
        }
      ],
      "execution_count": 26,
      "metadata": {
        "jupyter": {
          "source_hidden": false,
          "outputs_hidden": false
        },
        "nteract": {
          "transient": {
            "deleting": false
          }
        }
      }
    },
    {
      "cell_type": "code",
      "source": [
        "df=kql_cyber_brain(\"show me the first 5 results, but only display event time, event id, and host\")"
      ],
      "outputs": [
        {
          "output_type": "display_data",
          "data": {
            "application/vnd.livy.statement-meta+json": {
              "spark_pool": "SampleSpark",
              "statement_id": 32,
              "statement_ids": [
                32
              ],
              "livy_statement_state": "available",
              "spark_jobs": null,
              "session_id": "5",
              "state": "finished",
              "normalized_state": "finished",
              "queued_time": "2024-07-10T02:11:19.9597102Z",
              "session_start_time": null,
              "execution_start_time": "2024-07-10T02:12:01.6143689Z",
              "execution_finish_time": "2024-07-10T02:13:02.8554122Z",
              "parent_msg_id": "b53c53f7-6a19-461e-9faf-322b0ee1d1bf"
            },
            "text/plain": "StatementMeta(SampleSpark, 5, 32, Finished, Available, Finished)"
          },
          "metadata": {}
        },
        {
          "output_type": "stream",
          "name": "stdout",
          "text": [
            "show me the first 5 results, but only display event time, event id, and host\n\nAPT29\n| project EventTime, EventID, Hostname\n| top 5 by EventTime\n\n----------------\n                  EventTime  EventID             Hostname\n0 2024-06-07 23:28:17+00:00       10  UTICA.dmevals.local\n1 2024-06-07 23:28:17+00:00       10  UTICA.dmevals.local\n2 2024-06-07 23:28:17+00:00       10  UTICA.dmevals.local\n3 2024-06-07 23:28:17+00:00       10  UTICA.dmevals.local\n4 2024-06-07 23:28:17+00:00       10  UTICA.dmevals.local\n"
          ]
        }
      ],
      "execution_count": 32,
      "metadata": {
        "jupyter": {
          "source_hidden": false,
          "outputs_hidden": false
        },
        "nteract": {
          "transient": {
            "deleting": false
          }
        }
      }
    },
    {
      "cell_type": "code",
      "source": [
        "df=kql_cyber_brain(\"give me the count of all failed logins\")"
      ],
      "outputs": [
        {
          "output_type": "display_data",
          "data": {
            "application/vnd.livy.statement-meta+json": {
              "spark_pool": "SampleSpark",
              "statement_id": 30,
              "statement_ids": [
                30
              ],
              "livy_statement_state": "available",
              "spark_jobs": null,
              "session_id": "5",
              "state": "finished",
              "normalized_state": "finished",
              "queued_time": "2024-07-10T02:10:10.9130123Z",
              "session_start_time": null,
              "execution_start_time": "2024-07-10T02:10:11.0500168Z",
              "execution_finish_time": "2024-07-10T02:11:00.6088201Z",
              "parent_msg_id": "28a59c3a-5ac7-489a-b2e2-1a509f2e3551"
            },
            "text/plain": "StatementMeta(SampleSpark, 5, 30, Finished, Available, Finished)"
          },
          "metadata": {}
        },
        {
          "output_type": "stream",
          "name": "stdout",
          "text": [
            "give me the count of all failed logins\n\nAPT29\n| where EventID == 5156\n| summarize count()\n\n----------------\n   count_\n0    3163\n"
          ]
        }
      ],
      "execution_count": 30,
      "metadata": {
        "jupyter": {
          "source_hidden": false,
          "outputs_hidden": false
        },
        "nteract": {
          "transient": {
            "deleting": false
          }
        }
      }
    },
    {
      "cell_type": "code",
      "source": [
        "df=kql_cyber_brain(\"I would like a count of Applications that contain psexec or 3aka3\")"
      ],
      "outputs": [
        {
          "output_type": "display_data",
          "data": {
            "application/vnd.livy.statement-meta+json": {
              "spark_pool": "SampleSpark",
              "statement_id": 31,
              "statement_ids": [
                31
              ],
              "livy_statement_state": "available",
              "spark_jobs": null,
              "session_id": "5",
              "state": "finished",
              "normalized_state": "finished",
              "queued_time": "2024-07-10T02:11:05.4528403Z",
              "session_start_time": null,
              "execution_start_time": "2024-07-10T02:11:05.5883559Z",
              "execution_finish_time": "2024-07-10T02:12:01.4725836Z",
              "parent_msg_id": "d011ef89-e8ec-4530-8bd8-70739ce133c0"
            },
            "text/plain": "StatementMeta(SampleSpark, 5, 31, Finished, Available, Finished)"
          },
          "metadata": {}
        },
        {
          "output_type": "stream",
          "name": "stdout",
          "text": [
            "I would like a count of Applications that contain psexec or 3aka3\n\nAPT29\n| where Application contains \"psexec\" or Application contains \"3aka3\"\n| summarize count() by Application\n\n----------------\n                                         Application  count_\n0  \\device\\harddiskvolume2\\program files\\sysinter...      26\n1  \\device\\harddiskvolume2\\programdata\\victim\\â€®...       2\n"
          ]
        }
      ],
      "execution_count": 31,
      "metadata": {
        "jupyter": {
          "source_hidden": false,
          "outputs_hidden": false
        },
        "nteract": {
          "transient": {
            "deleting": false
          }
        }
      }
    }
  ],
  "metadata": {
    "kernelspec": {
      "name": "synapse_pyspark",
      "language": "Python",
      "display_name": "Synapse PySpark"
    },
    "language_info": {
      "name": "python"
    },
    "kernel_info": {
      "name": "synapse_pyspark"
    },
    "description": null,
    "save_output": true,
    "synapse_widget": {
      "version": "0.1",
      "state": {}
    }
  },
  "nbformat": 4,
  "nbformat_minor": 2
}