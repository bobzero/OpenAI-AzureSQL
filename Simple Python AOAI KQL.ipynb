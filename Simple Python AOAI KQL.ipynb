{
  "cells": [
    {
      "cell_type": "markdown",
      "metadata": {},
      "source": [
        "![NLP to KQL](images/nlpkqldemo1.jpg \"NLP to KQL\")"
      ]
    },
    {
      "cell_type": "markdown",
      "metadata": {
        "nteract": {
          "transient": {
            "deleting": false
          }
        }
      },
      "source": [
        "### Simple Python AOAI KQL  \n",
        "\n",
        "General pattern from this source but updated to use more recent OpenAI APIs\n",
        "https://techcommunity.microsoft.com/t5/startups-at-microsoft/building-a-self-serve-analytics-platform-with-azure-data/ba-p/3875484"
      ]
    },
    {
      "cell_type": "code",
      "execution_count": 12,
      "metadata": {
        "jupyter": {
          "outputs_hidden": true,
          "source_hidden": false
        },
        "nteract": {
          "transient": {
            "deleting": false
          }
        }
      },
      "outputs": [
        {
          "data": {
            "application/vnd.livy.statement-meta+json": {
              "execution_finish_time": "2024-07-10T02:04:56.5384172Z",
              "execution_start_time": "2024-07-10T02:04:45.8553704Z",
              "livy_statement_state": "available",
              "normalized_state": "finished",
              "parent_msg_id": "a560e9d9-a865-45ec-9f4f-8021b3adcbdd",
              "queued_time": "2024-07-10T02:04:45.7033523Z",
              "session_id": "5",
              "session_start_time": null,
              "spark_jobs": null,
              "spark_pool": "SampleSpark",
              "state": "finished",
              "statement_id": 12,
              "statement_ids": [
                12
              ]
            },
            "text/plain": [
              "StatementMeta(SampleSpark, 5, 12, Finished, Available, Finished)"
            ]
          },
          "metadata": {},
          "output_type": "display_data"
        },
        {
          "name": "stdout",
          "output_type": "stream",
          "text": [
            "Requirement already satisfied: azure-kusto-data in /home/trusted-service-user/cluster-env/env/lib/python3.10/site-packages (4.5.1)\n",
            "Requirement already satisfied: python-dateutil>=2.8.0 in /home/trusted-service-user/cluster-env/env/lib/python3.10/site-packages (from azure-kusto-data) (2.9.0)\n",
            "Requirement already satisfied: requests>=2.13.0 in /home/trusted-service-user/cluster-env/env/lib/python3.10/site-packages (from azure-kusto-data) (2.31.0)\n",
            "Requirement already satisfied: azure-identity<2,>=1.5.0 in /home/trusted-service-user/cluster-env/env/lib/python3.10/site-packages (from azure-kusto-data) (1.15.0)\n",
            "Requirement already satisfied: msal<2,>=1.9.0 in /home/trusted-service-user/cluster-env/env/lib/python3.10/site-packages (from azure-kusto-data) (1.27.0)\n",
            "Requirement already satisfied: ijson~=3.1 in /home/trusted-service-user/cluster-env/env/lib/python3.10/site-packages (from azure-kusto-data) (3.3.0)\n",
            "Requirement already satisfied: azure-core<2,>=1.11.0 in /home/trusted-service-user/cluster-env/env/lib/python3.10/site-packages (from azure-kusto-data) (1.30.1)\n",
            "Requirement already satisfied: six>=1.11.0 in /home/trusted-service-user/cluster-env/env/lib/python3.10/site-packages (from azure-core<2,>=1.11.0->azure-kusto-data) (1.16.0)\n",
            "Requirement already satisfied: typing-extensions>=4.6.0 in /home/trusted-service-user/cluster-env/env/lib/python3.10/site-packages (from azure-core<2,>=1.11.0->azure-kusto-data) (4.10.0)\n",
            "Requirement already satisfied: cryptography>=2.5 in /home/trusted-service-user/cluster-env/env/lib/python3.10/site-packages (from azure-identity<2,>=1.5.0->azure-kusto-data) (41.0.7)\n",
            "Requirement already satisfied: msal-extensions<2.0.0,>=0.3.0 in /home/trusted-service-user/cluster-env/env/lib/python3.10/site-packages (from azure-identity<2,>=1.5.0->azure-kusto-data) (1.1.0)\n",
            "Requirement already satisfied: PyJWT[crypto]<3,>=1.0.0 in /home/trusted-service-user/cluster-env/env/lib/python3.10/site-packages (from msal<2,>=1.9.0->azure-kusto-data) (2.8.0)\n",
            "Requirement already satisfied: charset-normalizer<4,>=2 in /home/trusted-service-user/cluster-env/env/lib/python3.10/site-packages (from requests>=2.13.0->azure-kusto-data) (3.3.2)\n",
            "Requirement already satisfied: idna<4,>=2.5 in /home/trusted-service-user/cluster-env/env/lib/python3.10/site-packages (from requests>=2.13.0->azure-kusto-data) (3.6)\n",
            "Requirement already satisfied: urllib3<3,>=1.21.1 in /home/trusted-service-user/cluster-env/env/lib/python3.10/site-packages (from requests>=2.13.0->azure-kusto-data) (2.1.0)\n",
            "Requirement already satisfied: certifi>=2017.4.17 in /home/trusted-service-user/cluster-env/env/lib/python3.10/site-packages (from requests>=2.13.0->azure-kusto-data) (2024.2.2)\n",
            "Requirement already satisfied: cffi>=1.12 in /home/trusted-service-user/cluster-env/env/lib/python3.10/site-packages (from cryptography>=2.5->azure-identity<2,>=1.5.0->azure-kusto-data) (1.16.0)\n",
            "Requirement already satisfied: packaging in /home/trusted-service-user/cluster-env/env/lib/python3.10/site-packages (from msal-extensions<2.0.0,>=0.3.0->azure-identity<2,>=1.5.0->azure-kusto-data) (23.2)\n",
            "Requirement already satisfied: portalocker<3,>=1.0 in /home/trusted-service-user/cluster-env/env/lib/python3.10/site-packages (from msal-extensions<2.0.0,>=0.3.0->azure-identity<2,>=1.5.0->azure-kusto-data) (2.8.2)\n",
            "Requirement already satisfied: pycparser in /home/trusted-service-user/cluster-env/env/lib/python3.10/site-packages (from cffi>=1.12->cryptography>=2.5->azure-identity<2,>=1.5.0->azure-kusto-data) (2.21)\n",
            "Collecting openai\n",
            "  Downloading openai-1.35.12-py3-none-any.whl (328 kB)\n",
            "\u001b[2K     \u001b[90m━━━━━━━━━━━━━━━━━━━━━━━━━━━━━━━━━━━━━━\u001b[0m \u001b[32m328.4/328.4 kB\u001b[0m \u001b[31m24.2 MB/s\u001b[0m eta \u001b[36m0:00:00\u001b[0m\n",
            "\u001b[?25hRequirement already satisfied: anyio<5,>=3.5.0 in /home/trusted-service-user/cluster-env/env/lib/python3.10/site-packages (from openai) (3.7.1)\n",
            "Collecting distro<2,>=1.7.0 (from openai)\n",
            "  Downloading distro-1.9.0-py3-none-any.whl (20 kB)\n",
            "Collecting httpx<1,>=0.23.0 (from openai)\n",
            "  Downloading httpx-0.27.0-py3-none-any.whl (75 kB)\n",
            "\u001b[2K     \u001b[90m━━━━━━━━━━━━━━━━━━━━━━━━━━━━━━━━━━━━━━━━\u001b[0m \u001b[32m75.6/75.6 kB\u001b[0m \u001b[31m27.3 MB/s\u001b[0m eta \u001b[36m0:00:00\u001b[0m\n",
            "\u001b[?25hCollecting pydantic<3,>=1.9.0 (from openai)\n",
            "  Downloading pydantic-2.8.2-py3-none-any.whl (423 kB)\n",
            "\u001b[2K     \u001b[90m━━━━━━━━━━━━━━━━━━━━━━━━━━━━━━━━━━━━━━\u001b[0m \u001b[32m423.9/423.9 kB\u001b[0m \u001b[31m82.8 MB/s\u001b[0m eta \u001b[36m0:00:00\u001b[0m\n",
            "\u001b[?25hRequirement already satisfied: sniffio in /home/trusted-service-user/cluster-env/env/lib/python3.10/site-packages (from openai) (1.3.1)\n",
            "Requirement already satisfied: tqdm>4 in /home/trusted-service-user/cluster-env/env/lib/python3.10/site-packages (from openai) (4.66.2)\n",
            "Requirement already satisfied: typing-extensions<5,>=4.7 in /home/trusted-service-user/cluster-env/env/lib/python3.10/site-packages (from openai) (4.10.0)\n",
            "Requirement already satisfied: idna>=2.8 in /home/trusted-service-user/cluster-env/env/lib/python3.10/site-packages (from anyio<5,>=3.5.0->openai) (3.6)\n",
            "Requirement already satisfied: exceptiongroup in /home/trusted-service-user/cluster-env/env/lib/python3.10/site-packages (from anyio<5,>=3.5.0->openai) (1.2.0)\n",
            "Requirement already satisfied: certifi in /home/trusted-service-user/cluster-env/env/lib/python3.10/site-packages (from httpx<1,>=0.23.0->openai) (2024.2.2)\n",
            "Collecting httpcore==1.* (from httpx<1,>=0.23.0->openai)\n",
            "  Downloading httpcore-1.0.5-py3-none-any.whl (77 kB)\n",
            "\u001b[2K     \u001b[90m━━━━━━━━━━━━━━━━━━━━━━━━━━━━━━━━━━━━━━━━\u001b[0m \u001b[32m77.9/77.9 kB\u001b[0m \u001b[31m27.5 MB/s\u001b[0m eta \u001b[36m0:00:00\u001b[0m\n",
            "\u001b[?25hCollecting h11<0.15,>=0.13 (from httpcore==1.*->httpx<1,>=0.23.0->openai)\n",
            "  Downloading h11-0.14.0-py3-none-any.whl (58 kB)\n",
            "\u001b[2K     \u001b[90m━━━━━━━━━━━━━━━━━━━━━━━━━━━━━━━━━━━━━━━━\u001b[0m \u001b[32m58.3/58.3 kB\u001b[0m \u001b[31m20.2 MB/s\u001b[0m eta \u001b[36m0:00:00\u001b[0m\n",
            "\u001b[?25hCollecting annotated-types>=0.4.0 (from pydantic<3,>=1.9.0->openai)\n",
            "  Downloading annotated_types-0.7.0-py3-none-any.whl (13 kB)\n",
            "Collecting pydantic-core==2.20.1 (from pydantic<3,>=1.9.0->openai)\n",
            "  Downloading pydantic_core-2.20.1-cp310-cp310-manylinux_2_17_x86_64.manylinux2014_x86_64.whl (2.1 MB)\n",
            "\u001b[2K     \u001b[90m━━━━━━━━━━━━━━━━━━━━━━━━━━━━━━━━━━━━━━━━\u001b[0m \u001b[32m2.1/2.1 MB\u001b[0m \u001b[31m91.8 MB/s\u001b[0m eta \u001b[36m0:00:00\u001b[0m\n",
            "\u001b[?25hInstalling collected packages: pydantic-core, h11, distro, annotated-types, pydantic, httpcore, httpx, openai\n",
            "Successfully installed annotated-types-0.7.0 distro-1.9.0 h11-0.14.0 httpcore-1.0.5 httpx-0.27.0 openai-1.35.12 pydantic-2.8.2 pydantic-core-2.20.1\n",
            "Requirement already satisfied: utils in /home/trusted-service-user/cluster-env/env/lib/python3.10/site-packages (1.0.2)\n"
          ]
        }
      ],
      "source": [
        "!pip install azure-kusto-data\n",
        "!pip install --upgrade openai\n",
        "!pip install utils"
      ]
    },
    {
      "cell_type": "code",
      "execution_count": 13,
      "metadata": {
        "jupyter": {
          "outputs_hidden": false,
          "source_hidden": false
        },
        "nteract": {
          "transient": {
            "deleting": false
          }
        }
      },
      "outputs": [
        {
          "data": {
            "application/vnd.livy.statement-meta+json": {
              "execution_finish_time": "2024-07-10T02:04:58.4810209Z",
              "execution_start_time": "2024-07-10T02:04:58.3232453Z",
              "livy_statement_state": "available",
              "normalized_state": "finished",
              "parent_msg_id": "1a69459b-a579-4f16-bc93-551ddbc9aba2",
              "queued_time": "2024-07-10T02:04:58.1886778Z",
              "session_id": "5",
              "session_start_time": null,
              "spark_jobs": null,
              "spark_pool": "SampleSpark",
              "state": "finished",
              "statement_id": 13,
              "statement_ids": [
                13
              ]
            },
            "text/plain": [
              "StatementMeta(SampleSpark, 5, 13, Finished, Available, Finished)"
            ]
          },
          "metadata": {},
          "output_type": "display_data"
        }
      ],
      "source": [
        "AAD_TENANT_ID = \"<USEYOUROWN>\"\n",
        "KUSTO_CLUSTER =  \"https://<USEYOUROWN>.kusto.windows.net\"\n",
        "KUSTO_DATABASE = \"<USEYOUROWN>\"\n",
        "KUSTO_TABLE = \"<USEYOUROWN>\"\n",
        "KUSTO_MANAGED_IDENTITY_APP_ID = \"<USEYOUROWN>\"\n",
        "KUSTO_MANAGED_IDENTITY_SECRET = \"<USEYOUROWN>\""
      ]
    },
    {
      "cell_type": "code",
      "execution_count": 14,
      "metadata": {
        "jupyter": {
          "outputs_hidden": false,
          "source_hidden": false
        },
        "nteract": {
          "transient": {
            "deleting": false
          }
        }
      },
      "outputs": [
        {
          "data": {
            "application/vnd.livy.statement-meta+json": {
              "execution_finish_time": "2024-07-10T02:05:01.5757438Z",
              "execution_start_time": "2024-07-10T02:05:01.4158296Z",
              "livy_statement_state": "available",
              "normalized_state": "finished",
              "parent_msg_id": "23a364a7-8a7d-4ed6-990e-f1dca54081a9",
              "queued_time": "2024-07-10T02:05:01.2665634Z",
              "session_id": "5",
              "session_start_time": null,
              "spark_jobs": null,
              "spark_pool": "SampleSpark",
              "state": "finished",
              "statement_id": 14,
              "statement_ids": [
                14
              ]
            },
            "text/plain": [
              "StatementMeta(SampleSpark, 5, 14, Finished, Available, Finished)"
            ]
          },
          "metadata": {},
          "output_type": "display_data"
        }
      ],
      "source": [
        "OPENAI_ENDPOINT = \"https://<USEYOUROWN>.openai.azure.com/\"\n",
        "API_KEY = \"<USEYOUROWN>\"\n",
        "OPENAI_DEPLOYMENT = \"gpt-35-turbo\"\n",
        "API_VERSION = \"2023-03-15-preview\"\n",
        "OPENAI_MODEL=\"gpt-35-turbo\"\n",
        "OPENAI_DEPLOYMENT = \"gpt-4o\"\n",
        "API_VERSION = \"2023-03-15-preview\"\n",
        "OPENAI_MODEL=\"gpt-4o\""
      ]
    },
    {
      "cell_type": "code",
      "execution_count": 15,
      "metadata": {
        "jupyter": {
          "outputs_hidden": false,
          "source_hidden": false
        },
        "nteract": {
          "transient": {
            "deleting": false
          }
        }
      },
      "outputs": [
        {
          "data": {
            "application/vnd.livy.statement-meta+json": {
              "execution_finish_time": "2024-07-10T02:05:04.5272805Z",
              "execution_start_time": "2024-07-10T02:05:03.4333464Z",
              "livy_statement_state": "available",
              "normalized_state": "finished",
              "parent_msg_id": "3849a34e-6532-4a9a-97ef-383fae134396",
              "queued_time": "2024-07-10T02:05:03.2985013Z",
              "session_id": "5",
              "session_start_time": null,
              "spark_jobs": null,
              "spark_pool": "SampleSpark",
              "state": "finished",
              "statement_id": 15,
              "statement_ids": [
                15
              ]
            },
            "text/plain": [
              "StatementMeta(SampleSpark, 5, 15, Finished, Available, Finished)"
            ]
          },
          "metadata": {},
          "output_type": "display_data"
        }
      ],
      "source": [
        "from azure.kusto.data import KustoClient, KustoConnectionStringBuilder\n",
        "from azure.kusto.data.exceptions import KustoServiceError\n",
        "from azure.kusto.data.helpers import dataframe_from_result_table\n",
        "import utils\n",
        "import pandas as pd\n",
        "import os\n",
        "import openai\n",
        "import json "
      ]
    },
    {
      "cell_type": "code",
      "execution_count": 16,
      "metadata": {
        "jupyter": {
          "outputs_hidden": false,
          "source_hidden": false
        },
        "nteract": {
          "transient": {
            "deleting": false
          }
        }
      },
      "outputs": [
        {
          "data": {
            "application/vnd.livy.statement-meta+json": {
              "execution_finish_time": "2024-07-10T02:05:07.0262084Z",
              "execution_start_time": "2024-07-10T02:05:06.8528108Z",
              "livy_statement_state": "available",
              "normalized_state": "finished",
              "parent_msg_id": "1fb0634b-aa42-45f1-8965-9b365d67b733",
              "queued_time": "2024-07-10T02:05:06.7153057Z",
              "session_id": "5",
              "session_start_time": null,
              "spark_jobs": null,
              "spark_pool": "SampleSpark",
              "state": "finished",
              "statement_id": 16,
              "statement_ids": [
                16
              ]
            },
            "text/plain": [
              "StatementMeta(SampleSpark, 5, 16, Finished, Available, Finished)"
            ]
          },
          "metadata": {},
          "output_type": "display_data"
        }
      ],
      "source": [
        "cluster = KUSTO_CLUSTER\n",
        "kcsb = KustoConnectionStringBuilder.with_aad_application_key_authentication(cluster, KUSTO_MANAGED_IDENTITY_APP_ID, KUSTO_MANAGED_IDENTITY_SECRET,  AAD_TENANT_ID)\n",
        "kustoclient = KustoClient(kcsb)"
      ]
    },
    {
      "cell_type": "code",
      "execution_count": 17,
      "metadata": {
        "jupyter": {
          "outputs_hidden": true,
          "source_hidden": false
        },
        "nteract": {
          "transient": {
            "deleting": false
          }
        }
      },
      "outputs": [
        {
          "data": {
            "application/vnd.livy.statement-meta+json": {
              "execution_finish_time": "2024-07-10T02:05:09.5135476Z",
              "execution_start_time": "2024-07-10T02:05:08.985487Z",
              "livy_statement_state": "available",
              "normalized_state": "finished",
              "parent_msg_id": "daa171e1-f06b-45d5-ad88-2b9a563e90b6",
              "queued_time": "2024-07-10T02:05:08.8511507Z",
              "session_id": "5",
              "session_start_time": null,
              "spark_jobs": null,
              "spark_pool": "SampleSpark",
              "state": "finished",
              "statement_id": 17,
              "statement_ids": [
                17
              ]
            },
            "text/plain": [
              "StatementMeta(SampleSpark, 5, 17, Finished, Available, Finished)"
            ]
          },
          "metadata": {},
          "output_type": "display_data"
        },
        {
          "name": "stdout",
          "output_type": "stream",
          "text": [
            "Item:Process accessed:\r\n",
            "RuleName: -\r\n",
            "UtcTime: 2024-06-08 02:55:23.551\r\n",
            "SourceProcessGUID: {6bbf237a-cafb-5eac-1000-000000000400}\r\n",
            "SourceProcessId: 900\r\n",
            "SourceThreadId: 504\r\n",
            "SourceImage: C:\\windows\\system32\\svchost.exe\r\n",
            "TargetProcessGUID: {6bbf237a-cb97-5eac-6202-000000000400}\r\n",
            "TargetProcessId: 2092\r\n",
            "TargetImage: C:\\windows\\System32\\svchost.exe\r\n",
            "GrantedAccess: 0x1000\r\n",
            "CallTrace: C:\\windows\\SYSTEM32\\ntdll.dll+9c584|C:\\windows\\SYSTEM32\\psmserviceexthost.dll+222a3|C:\\windows\\SYSTEM32\\psmserviceexthost.dll+1a172|C:\\windows\\SYSTEM32\\psmserviceexthost.dll+19e3b|C:\\windows\\SYSTEM32\\psmserviceexthost.dll+19318|C:\\windows\\SYSTEM32\\ntdll.dll+3089d|C:\\windows\\SYSTEM32\\ntdll.dll+34634|C:\\windows\\System32\\KERNEL32.DLL+17bd4|C:\\windows\\SYSTEM32\\ntdll.dll+6ced1\n",
            "Item:Process accessed:\r\n",
            "RuleName: -\r\n",
            "UtcTime: 2024-06-08 02:55:23.551\r\n",
            "SourceProcessGUID: {6bbf237a-cafb-5eac-1000-000000000400}\r\n",
            "SourceProcessId: 900\r\n",
            "SourceThreadId: 504\r\n",
            "SourceImage: C:\\windows\\system32\\svchost.exe\r\n",
            "TargetProcessGUID: {6bbf237a-cb97-5eac-6202-000000000400}\r\n",
            "TargetProcessId: 2092\r\n",
            "TargetImage: C:\\windows\\System32\\svchost.exe\r\n",
            "GrantedAccess: 0x1000\r\n",
            "CallTrace: C:\\windows\\SYSTEM32\\ntdll.dll+9c584|C:\\windows\\SYSTEM32\\psmserviceexthost.dll+222a3|C:\\windows\\SYSTEM32\\psmserviceexthost.dll+1a172|C:\\windows\\SYSTEM32\\psmserviceexthost.dll+19e3b|C:\\windows\\SYSTEM32\\psmserviceexthost.dll+19318|C:\\windows\\SYSTEM32\\ntdll.dll+3089d|C:\\windows\\SYSTEM32\\ntdll.dll+34634|C:\\windows\\System32\\KERNEL32.DLL+17bd4|C:\\windows\\SYSTEM32\\ntdll.dll+6ced1\n",
            "Item:Process accessed:\r\n",
            "RuleName: -\r\n",
            "UtcTime: 2024-06-08 02:55:23.551\r\n",
            "SourceProcessGUID: {6bbf237a-cafb-5eac-1000-000000000400}\r\n",
            "SourceProcessId: 900\r\n",
            "SourceThreadId: 972\r\n",
            "SourceImage: C:\\windows\\system32\\svchost.exe\r\n",
            "TargetProcessGUID: {6bbf237a-cb97-5eac-6202-000000000400}\r\n",
            "TargetProcessId: 2092\r\n",
            "TargetImage: C:\\windows\\System32\\svchost.exe\r\n",
            "GrantedAccess: 0x1000\r\n",
            "CallTrace: C:\\windows\\SYSTEM32\\ntdll.dll+9c584|C:\\windows\\SYSTEM32\\psmserviceexthost.dll+222a3|C:\\windows\\SYSTEM32\\psmserviceexthost.dll+1a172|C:\\windows\\SYSTEM32\\psmserviceexthost.dll+19e3b|C:\\windows\\SYSTEM32\\psmserviceexthost.dll+19318|C:\\windows\\SYSTEM32\\ntdll.dll+3089d|C:\\windows\\SYSTEM32\\ntdll.dll+34634|C:\\windows\\System32\\KERNEL32.DLL+17bd4|C:\\windows\\SYSTEM32\\ntdll.dll+6ced1\n",
            "Item:Process accessed:\r\n",
            "RuleName: -\r\n",
            "UtcTime: 2024-06-08 02:55:23.567\r\n",
            "SourceProcessGUID: {6bbf237a-cafb-5eac-1000-000000000400}\r\n",
            "SourceProcessId: 900\r\n",
            "SourceThreadId: 972\r\n",
            "SourceImage: C:\\windows\\system32\\svchost.exe\r\n",
            "TargetProcessGUID: {6bbf237a-cb97-5eac-6202-000000000400}\r\n",
            "TargetProcessId: 2092\r\n",
            "TargetImage: C:\\windows\\System32\\svchost.exe\r\n",
            "GrantedAccess: 0x1000\r\n",
            "CallTrace: C:\\windows\\SYSTEM32\\ntdll.dll+9c584|C:\\windows\\SYSTEM32\\psmserviceexthost.dll+222a3|C:\\windows\\SYSTEM32\\psmserviceexthost.dll+1a172|C:\\windows\\SYSTEM32\\psmserviceexthost.dll+19e3b|C:\\windows\\SYSTEM32\\psmserviceexthost.dll+19318|C:\\windows\\SYSTEM32\\ntdll.dll+3089d|C:\\windows\\SYSTEM32\\ntdll.dll+34634|C:\\windows\\System32\\KERNEL32.DLL+17bd4|C:\\windows\\SYSTEM32\\ntdll.dll+6ced1\n",
            "Item:Process accessed:\r\n",
            "RuleName: -\r\n",
            "UtcTime: 2024-06-08 02:55:24.215\r\n",
            "SourceProcessGUID: {5aa8ec29-cad8-5eac-1000-000000000400}\r\n",
            "SourceProcessId: 884\r\n",
            "SourceThreadId: 5792\r\n",
            "SourceImage: C:\\windows\\system32\\svchost.exe\r\n",
            "TargetProcessGUID: {5aa8ec29-cba2-5eac-6e02-000000000400}\r\n",
            "TargetProcessId: 2980\r\n",
            "TargetImage: C:\\windows\\System32\\svchost.exe\r\n",
            "GrantedAccess: 0x1000\r\n",
            "CallTrace: C:\\windows\\SYSTEM32\\ntdll.dll+9c584|C:\\windows\\SYSTEM32\\psmserviceexthost.dll+222a3|C:\\windows\\SYSTEM32\\psmserviceexthost.dll+1a172|C:\\windows\\SYSTEM32\\psmserviceexthost.dll+19e3b|C:\\windows\\SYSTEM32\\psmserviceexthost.dll+19318|C:\\windows\\SYSTEM32\\ntdll.dll+3089d|C:\\windows\\SYSTEM32\\ntdll.dll+34634|C:\\windows\\System32\\KERNEL32.DLL+17bd4|C:\\windows\\SYSTEM32\\ntdll.dll+6ced1\n",
            "Item:Process accessed:\r\n",
            "RuleName: -\r\n",
            "UtcTime: 2024-06-08 02:55:24.215\r\n",
            "SourceProcessGUID: {5aa8ec29-cad8-5eac-1000-000000000400}\r\n",
            "SourceProcessId: 884\r\n",
            "SourceThreadId: 5792\r\n",
            "SourceImage: C:\\windows\\system32\\svchost.exe\r\n",
            "TargetProcessGUID: {5aa8ec29-cba2-5eac-6e02-000000000400}\r\n",
            "TargetProcessId: 2980\r\n",
            "TargetImage: C:\\windows\\System32\\svchost.exe\r\n",
            "GrantedAccess: 0x1000\r\n",
            "CallTrace: C:\\windows\\SYSTEM32\\ntdll.dll+9c584|C:\\windows\\SYSTEM32\\psmserviceexthost.dll+222a3|C:\\windows\\SYSTEM32\\psmserviceexthost.dll+1a172|C:\\windows\\SYSTEM32\\psmserviceexthost.dll+19e3b|C:\\windows\\SYSTEM32\\psmserviceexthost.dll+19318|C:\\windows\\SYSTEM32\\ntdll.dll+3089d|C:\\windows\\SYSTEM32\\ntdll.dll+34634|C:\\windows\\System32\\KERNEL32.DLL+17bd4|C:\\windows\\SYSTEM32\\ntdll.dll+6ced1\n",
            "Item:Process accessed:\r\n",
            "RuleName: -\r\n",
            "UtcTime: 2024-06-08 02:55:24.215\r\n",
            "SourceProcessGUID: {5aa8ec29-cad8-5eac-1000-000000000400}\r\n",
            "SourceProcessId: 884\r\n",
            "SourceThreadId: 5708\r\n",
            "SourceImage: C:\\windows\\system32\\svchost.exe\r\n",
            "TargetProcessGUID: {5aa8ec29-cba2-5eac-6e02-000000000400}\r\n",
            "TargetProcessId: 2980\r\n",
            "TargetImage: C:\\windows\\System32\\svchost.exe\r\n",
            "GrantedAccess: 0x1000\r\n",
            "CallTrace: C:\\windows\\SYSTEM32\\ntdll.dll+9c584|C:\\windows\\SYSTEM32\\psmserviceexthost.dll+222a3|C:\\windows\\SYSTEM32\\psmserviceexthost.dll+1a172|C:\\windows\\SYSTEM32\\psmserviceexthost.dll+19e3b|C:\\windows\\SYSTEM32\\psmserviceexthost.dll+19318|C:\\windows\\SYSTEM32\\ntdll.dll+3089d|C:\\windows\\SYSTEM32\\ntdll.dll+34634|C:\\windows\\System32\\KERNEL32.DLL+17bd4|C:\\windows\\SYSTEM32\\ntdll.dll+6ced1\n",
            "Item:Process accessed:\r\n",
            "RuleName: -\r\n",
            "UtcTime: 2024-06-08 02:55:24.215\r\n",
            "SourceProcessGUID: {5aa8ec29-cad8-5eac-1000-000000000400}\r\n",
            "SourceProcessId: 884\r\n",
            "SourceThreadId: 5708\r\n",
            "SourceImage: C:\\windows\\system32\\svchost.exe\r\n",
            "TargetProcessGUID: {5aa8ec29-cba2-5eac-6e02-000000000400}\r\n",
            "TargetProcessId: 2980\r\n",
            "TargetImage: C:\\windows\\System32\\svchost.exe\r\n",
            "GrantedAccess: 0x1000\r\n",
            "CallTrace: C:\\windows\\SYSTEM32\\ntdll.dll+9c584|C:\\windows\\SYSTEM32\\psmserviceexthost.dll+222a3|C:\\windows\\SYSTEM32\\psmserviceexthost.dll+1a172|C:\\windows\\SYSTEM32\\psmserviceexthost.dll+19e3b|C:\\windows\\SYSTEM32\\psmserviceexthost.dll+19318|C:\\windows\\SYSTEM32\\ntdll.dll+3089d|C:\\windows\\SYSTEM32\\ntdll.dll+34634|C:\\windows\\System32\\KERNEL32.DLL+17bd4|C:\\windows\\SYSTEM32\\ntdll.dll+6ced1\n",
            "Item:Process accessed:\r\n",
            "RuleName: -\r\n",
            "UtcTime: 2024-06-08 02:55:24.636\r\n",
            "SourceProcessGUID: {6bbf237a-cafb-5eac-1000-000000000400}\r\n",
            "SourceProcessId: 900\r\n",
            "SourceThreadId: 504\r\n",
            "SourceImage: C:\\windows\\system32\\svchost.exe\r\n",
            "TargetProcessGUID: {6bbf237a-cb97-5eac-6202-000000000400}\r\n",
            "TargetProcessId: 2092\r\n",
            "TargetImage: C:\\windows\\System32\\svchost.exe\r\n",
            "GrantedAccess: 0x1000\r\n",
            "CallTrace: C:\\windows\\SYSTEM32\\ntdll.dll+9c584|C:\\windows\\SYSTEM32\\psmserviceexthost.dll+222a3|C:\\windows\\SYSTEM32\\psmserviceexthost.dll+1a172|C:\\windows\\SYSTEM32\\psmserviceexthost.dll+19e3b|C:\\windows\\SYSTEM32\\psmserviceexthost.dll+19318|C:\\windows\\SYSTEM32\\ntdll.dll+3089d|C:\\windows\\SYSTEM32\\ntdll.dll+34634|C:\\windows\\System32\\KERNEL32.DLL+17bd4|C:\\windows\\SYSTEM32\\ntdll.dll+6ced1\n",
            "Item:Process accessed:\r\n",
            "RuleName: -\r\n",
            "UtcTime: 2024-06-08 02:55:24.636\r\n",
            "SourceProcessGUID: {6bbf237a-cafb-5eac-1000-000000000400}\r\n",
            "SourceProcessId: 900\r\n",
            "SourceThreadId: 504\r\n",
            "SourceImage: C:\\windows\\system32\\svchost.exe\r\n",
            "TargetProcessGUID: {6bbf237a-cb97-5eac-6202-000000000400}\r\n",
            "TargetProcessId: 2092\r\n",
            "TargetImage: C:\\windows\\System32\\svchost.exe\r\n",
            "GrantedAccess: 0x1000\r\n",
            "CallTrace: C:\\windows\\SYSTEM32\\ntdll.dll+9c584|C:\\windows\\SYSTEM32\\psmserviceexthost.dll+222a3|C:\\windows\\SYSTEM32\\psmserviceexthost.dll+1a172|C:\\windows\\SYSTEM32\\psmserviceexthost.dll+19e3b|C:\\windows\\SYSTEM32\\psmserviceexthost.dll+19318|C:\\windows\\SYSTEM32\\ntdll.dll+3089d|C:\\windows\\SYSTEM32\\ntdll.dll+34634|C:\\windows\\System32\\KERNEL32.DLL+17bd4|C:\\windows\\SYSTEM32\\ntdll.dll+6ced1\n"
          ]
        }
      ],
      "source": [
        "query = \"APT29 | take 10\"\n",
        "\n",
        "response = kustoclient.execute(\"cdldb\", query)\n",
        "for row in response.primary_results[0]:\n",
        "    print(\"Item:{}\".format(row[\"Message\"]))"
      ]
    },
    {
      "cell_type": "code",
      "execution_count": 18,
      "metadata": {
        "jupyter": {
          "outputs_hidden": true,
          "source_hidden": false
        },
        "nteract": {
          "transient": {
            "deleting": false
          }
        }
      },
      "outputs": [
        {
          "data": {
            "application/vnd.livy.statement-meta+json": {
              "execution_finish_time": "2024-07-10T02:05:11.2144536Z",
              "execution_start_time": "2024-07-10T02:05:11.0618615Z",
              "livy_statement_state": "available",
              "normalized_state": "finished",
              "parent_msg_id": "b493f195-192d-4ae4-ab9b-f88741be4b56",
              "queued_time": "2024-07-10T02:05:10.930896Z",
              "session_id": "5",
              "session_start_time": null,
              "spark_jobs": null,
              "spark_pool": "SampleSpark",
              "state": "finished",
              "statement_id": 18,
              "statement_ids": [
                18
              ]
            },
            "text/plain": [
              "StatementMeta(SampleSpark, 5, 18, Finished, Available, Finished)"
            ]
          },
          "metadata": {},
          "output_type": "display_data"
        },
        {
          "name": "stdout",
          "output_type": "stream",
          "text": [
            "                  EventTime   port  \\\n",
            "0 2024-06-07 23:04:15+00:00  60737   \n",
            "1 2024-06-07 23:11:39+00:00  60737   \n",
            "2 2024-06-07 23:12:46+00:00  60737   \n",
            "3 2024-06-07 23:13:49+00:00  60737   \n",
            "4 2024-06-07 23:15:03+00:00  60737   \n",
            "5 2024-06-07 23:20:48+00:00  60737   \n",
            "6 2024-06-07 23:20:48+00:00  60737   \n",
            "7 2024-06-07 23:20:48+00:00  60737   \n",
            "8 2024-06-07 23:20:48+00:00  60737   \n",
            "9 2024-06-07 23:20:48+00:00  60737   \n",
            "\n",
            "                                             Message  SourceThreadId  EventID  \\\n",
            "0  A service was installed in the system.\\r\\n\\r\\n...            <NA>     4697   \n",
            "1  A service was installed in the system.\\r\\n\\r\\n...            <NA>     4697   \n",
            "2  A service was installed in the system.\\r\\n\\r\\n...            <NA>     4697   \n",
            "3  A service was installed in the system.\\r\\n\\r\\n...            <NA>     4697   \n",
            "4  A service was installed in the system.\\r\\n\\r\\n...            <NA>     4697   \n",
            "5  A service was installed in the system.\\r\\n\\r\\n...            <NA>     4697   \n",
            "6  A service was installed in the system.\\r\\n\\r\\n...            <NA>     4697   \n",
            "7  A service was installed in the system.\\r\\n\\r\\n...            <NA>     4697   \n",
            "8  A service was installed in the system.\\r\\n\\r\\n...            <NA>     4697   \n",
            "9  A service was installed in the system.\\r\\n\\r\\n...            <NA>     4697   \n",
            "\n",
            "  TargetProcessId SourceModuleName             tags  _version SourceImage  \\\n",
            "0                         eventlog  [mordorDataset]         1               \n",
            "1                         eventlog  [mordorDataset]         1               \n",
            "2                         eventlog  [mordorDataset]         1               \n",
            "3                         eventlog  [mordorDataset]         1               \n",
            "4                         eventlog  [mordorDataset]         1               \n",
            "5                         eventlog  [mordorDataset]         1               \n",
            "6                         eventlog  [mordorDataset]         1               \n",
            "7                         eventlog  [mordorDataset]         1               \n",
            "8                         eventlog  [mordorDataset]         1               \n",
            "9                         eventlog  [mordorDataset]         1               \n",
            "\n",
            "   ... RestrictedSidCount AccessReason TransactionId AccessList  AccessMask  \\\n",
            "0  ...               <NA>                       None                          \n",
            "1  ...               <NA>                       None                          \n",
            "2  ...               <NA>                       None                          \n",
            "3  ...               <NA>                       None                          \n",
            "4  ...               <NA>                       None                          \n",
            "5  ...               <NA>                       None                          \n",
            "6  ...               <NA>                       None                          \n",
            "7  ...               <NA>                       None                          \n",
            "8  ...               <NA>                       None                          \n",
            "9  ...               <NA>                       None                          \n",
            "\n",
            "   ResourceAttributes ObjectName QueryName QueryResults QueryStatus  \n",
            "0                                                              <NA>  \n",
            "1                                                              <NA>  \n",
            "2                                                              <NA>  \n",
            "3                                                              <NA>  \n",
            "4                                                              <NA>  \n",
            "5                                                              <NA>  \n",
            "6                                                              <NA>  \n",
            "7                                                              <NA>  \n",
            "8                                                              <NA>  \n",
            "9                                                              <NA>  \n",
            "\n",
            "[10 rows x 146 columns]\n"
          ]
        }
      ],
      "source": [
        "query = \"\"\"\n",
        "APT29\n",
        "| where EventID == 4697\n",
        "| take 10\n",
        "\"\"\" \n",
        "\n",
        "response = kustoclient.execute(\"cdldb\", query)\n",
        "\n",
        "df = dataframe_from_result_table(response.primary_results[0])\n",
        "print(df)\n",
        "#print(response)\n",
        "#for row in response.primary_results[0]:\n",
        "# print(\"Item:{}\".format(row[\"Message\"]))"
      ]
    },
    {
      "cell_type": "code",
      "execution_count": 20,
      "metadata": {
        "jupyter": {
          "outputs_hidden": false,
          "source_hidden": false
        },
        "nteract": {
          "transient": {
            "deleting": false
          }
        }
      },
      "outputs": [
        {
          "data": {
            "application/vnd.livy.statement-meta+json": {
              "execution_finish_time": "2024-07-10T02:05:28.7045265Z",
              "execution_start_time": "2024-07-10T02:05:28.5513661Z",
              "livy_statement_state": "available",
              "normalized_state": "finished",
              "parent_msg_id": "5aa72328-5621-40a7-b0e4-76d55dfe22de",
              "queued_time": "2024-07-10T02:05:28.396949Z",
              "session_id": "5",
              "session_start_time": null,
              "spark_jobs": null,
              "spark_pool": "SampleSpark",
              "state": "finished",
              "statement_id": 20,
              "statement_ids": [
                20
              ]
            },
            "text/plain": [
              "StatementMeta(SampleSpark, 5, 20, Finished, Available, Finished)"
            ]
          },
          "metadata": {},
          "output_type": "display_data"
        }
      ],
      "source": [
        "from openai import AzureOpenAI\n",
        "\n",
        "aoaiclient = AzureOpenAI(\n",
        "    api_key=API_KEY,  \n",
        "    api_version=API_VERSION,\n",
        "    azure_endpoint=OPENAI_ENDPOINT\n",
        ")"
      ]
    },
    {
      "cell_type": "code",
      "execution_count": 23,
      "metadata": {
        "jupyter": {
          "outputs_hidden": false,
          "source_hidden": false
        },
        "nteract": {
          "transient": {
            "deleting": false
          }
        }
      },
      "outputs": [
        {
          "data": {
            "application/vnd.livy.statement-meta+json": {
              "execution_finish_time": "2024-07-10T02:06:48.0003372Z",
              "execution_start_time": "2024-07-10T02:06:31.1141423Z",
              "livy_statement_state": "available",
              "normalized_state": "finished",
              "parent_msg_id": "b748d551-49af-46d6-a680-f37d33863658",
              "queued_time": "2024-07-10T02:06:30.9846406Z",
              "session_id": "5",
              "session_start_time": null,
              "spark_jobs": null,
              "spark_pool": "SampleSpark",
              "state": "finished",
              "statement_id": 23,
              "statement_ids": [
                23
              ]
            },
            "text/plain": [
              "StatementMeta(SampleSpark, 5, 23, Finished, Available, Finished)"
            ]
          },
          "metadata": {},
          "output_type": "display_data"
        },
        {
          "name": "stdout",
          "output_type": "stream",
          "text": [
            "{\n",
            "  \"id\": \"chatcmpl-9jH17FeOcwpftAs2WtOU4fvocMXFd\",\n",
            "  \"choices\": [\n",
            "    {\n",
            "      \"finish_reason\": \"stop\",\n",
            "      \"index\": 0,\n",
            "      \"logprobs\": null,\n",
            "      \"message\": {\n",
            "        \"content\": \"As of my last update in October 2023, Microsoft has established Innovation Hubs in various cities worldwide to promote technology development, foster innovation, and support local communities. Here are some cities known to have such hubs:\\n\\n1. **New York City, USA**\\n2. **Atlanta, USA**\\n3. **Boston, USA**\\n4. **Toronto, Canada**\\n5. **London, UK**\\n6. **Berlin, Germany**\\n7. **Paris, France**\\n8. **Sydney, Australia**\\n9. **Singapore**\\n10. **Tel Aviv, Israel**\\n11. **Bangalore, India**\\n\\nThese hubs serve as centers for collaboration, training, and development, partnering with local businesses, startups, educational institutions, and governments to leverage Microsoft technologies.\\n\\nPlease note that the specific locations and number of Microsoft Innovation Hubs may change over time as the company expands or redirects its initiatives. For the most current information, it's advisable to check Microsoft's official website or contact them directly.\",\n",
            "        \"role\": \"assistant\",\n",
            "        \"function_call\": null,\n",
            "        \"tool_calls\": null\n",
            "      }\n",
            "    }\n",
            "  ],\n",
            "  \"created\": 1720577201,\n",
            "  \"model\": \"gpt-4o-2024-05-13\",\n",
            "  \"object\": \"chat.completion\",\n",
            "  \"service_tier\": null,\n",
            "  \"system_fingerprint\": \"fp_abc28019ad\",\n",
            "  \"usage\": {\n",
            "    \"completion_tokens\": 197,\n",
            "    \"prompt_tokens\": 15,\n",
            "    \"total_tokens\": 212\n",
            "  }\n",
            "}\n"
          ]
        }
      ],
      "source": [
        "#test out the AOAI call\n",
        "completion = aoaiclient.chat.completions.create(\n",
        "    model=OPENAI_DEPLOYMENT,\n",
        "    messages=[\n",
        "        {\n",
        "            \"role\": \"user\",\n",
        "            \"content\": \"What cities contain Microsoft Innovation Hubs?\",\n",
        "        },\n",
        "    ],\n",
        ")\n",
        "print(completion.model_dump_json(indent=2))"
      ]
    },
    {
      "cell_type": "code",
      "execution_count": 24,
      "metadata": {
        "jupyter": {
          "outputs_hidden": false,
          "source_hidden": false
        },
        "nteract": {
          "transient": {
            "deleting": false
          }
        }
      },
      "outputs": [
        {
          "data": {
            "application/vnd.livy.statement-meta+json": {
              "execution_finish_time": "2024-07-10T02:06:48.3096798Z",
              "execution_start_time": "2024-07-10T02:06:48.1538633Z",
              "livy_statement_state": "available",
              "normalized_state": "finished",
              "parent_msg_id": "e2452f6d-6b3c-4b1b-b472-014cc0dffb75",
              "queued_time": "2024-07-10T02:06:35.3369627Z",
              "session_id": "5",
              "session_start_time": null,
              "spark_jobs": null,
              "spark_pool": "SampleSpark",
              "state": "finished",
              "statement_id": 24,
              "statement_ids": [
                24
              ]
            },
            "text/plain": [
              "StatementMeta(SampleSpark, 5, 24, Finished, Available, Finished)"
            ]
          },
          "metadata": {},
          "output_type": "display_data"
        }
      ],
      "source": [
        "cyber_system_prompt = f\"\"\"\n",
        "You are an Azure Data Explorer (Kusto) assistant that transforms natural language\n",
        "questions into KQL queries.  \n",
        "There is one Kusto table which is named {KUSTO_TABLE} and contains the following columns: \n",
        "EventTime, EventID, Channel, Application, Hostname, DestAddress, DestPort, Hostname\n",
        "\n",
        "EventID 5156 is a failed login.\n",
        "EventID 4697 is scheduled task.\n",
        "EventID 4624 is successful login.\n",
        "\n",
        "Write an KQL query based on the user input. Answer in a concise manner. \n",
        "Answer only with the KQL query where the table name is {KUSTO_TABLE}, no extra text.\n",
        "\"\"\""
      ]
    },
    {
      "cell_type": "code",
      "execution_count": 26,
      "metadata": {
        "jupyter": {
          "outputs_hidden": false,
          "source_hidden": false
        },
        "nteract": {
          "transient": {
            "deleting": false
          }
        }
      },
      "outputs": [
        {
          "data": {
            "application/vnd.livy.statement-meta+json": {
              "execution_finish_time": "2024-07-10T02:07:59.4252449Z",
              "execution_start_time": "2024-07-10T02:07:59.278701Z",
              "livy_statement_state": "available",
              "normalized_state": "finished",
              "parent_msg_id": "e3face11-154c-4cd8-8b63-60bfa335b62c",
              "queued_time": "2024-07-10T02:07:59.1445931Z",
              "session_id": "5",
              "session_start_time": null,
              "spark_jobs": null,
              "spark_pool": "SampleSpark",
              "state": "finished",
              "statement_id": 26,
              "statement_ids": [
                26
              ]
            },
            "text/plain": [
              "StatementMeta(SampleSpark, 5, 26, Finished, Available, Finished)"
            ]
          },
          "metadata": {},
          "output_type": "display_data"
        }
      ],
      "source": [
        "# define a function to translate the user input to KQL\n",
        "# and then launch the KQL query\n",
        "def kql_cyber_brain(userquestion):\n",
        "    #call\n",
        "    print(userquestion)\n",
        "    kql_completion = aoaiclient.chat.completions.create(\n",
        "        model=OPENAI_DEPLOYMENT,\n",
        "        messages=[\n",
        "            {   \n",
        "                \"role\": \"system\",\n",
        "                \"content\": cyber_system_prompt,\n",
        "            },\n",
        "            {   \n",
        "                \"role\": \"user\",\n",
        "                \"content\": userquestion,\n",
        "            },\n",
        "        ],\n",
        "    )\n",
        "    kql_query = kql_completion.choices[0].message.content\n",
        "    kql_query = kql_query.replace(\"```\", \"\").replace(\"kusto\", \"\").replace(\"kql\", \"\")\n",
        "    print(kql_query)\n",
        "    print(\"----------------\")\n",
        "    #run the kql query\n",
        "    response = kustoclient.execute(\"cdldb\", kql_query)\n",
        "    df = dataframe_from_result_table(response.primary_results[0])\n",
        "    print(df)\n",
        "    return df"
      ]
    },
    {
      "cell_type": "code",
      "execution_count": 32,
      "metadata": {
        "jupyter": {
          "outputs_hidden": false,
          "source_hidden": false
        },
        "nteract": {
          "transient": {
            "deleting": false
          }
        }
      },
      "outputs": [
        {
          "data": {
            "application/vnd.livy.statement-meta+json": {
              "execution_finish_time": "2024-07-10T02:13:02.8554122Z",
              "execution_start_time": "2024-07-10T02:12:01.6143689Z",
              "livy_statement_state": "available",
              "normalized_state": "finished",
              "parent_msg_id": "b53c53f7-6a19-461e-9faf-322b0ee1d1bf",
              "queued_time": "2024-07-10T02:11:19.9597102Z",
              "session_id": "5",
              "session_start_time": null,
              "spark_jobs": null,
              "spark_pool": "SampleSpark",
              "state": "finished",
              "statement_id": 32,
              "statement_ids": [
                32
              ]
            },
            "text/plain": [
              "StatementMeta(SampleSpark, 5, 32, Finished, Available, Finished)"
            ]
          },
          "metadata": {},
          "output_type": "display_data"
        },
        {
          "name": "stdout",
          "output_type": "stream",
          "text": [
            "show me the first 5 results, but only display event time, event id, and host\n",
            "\n",
            "APT29\n",
            "| project EventTime, EventID, Hostname\n",
            "| top 5 by EventTime\n",
            "\n",
            "----------------\n",
            "                  EventTime  EventID             Hostname\n",
            "0 2024-06-07 23:28:17+00:00       10  UTICA.dmevals.local\n",
            "1 2024-06-07 23:28:17+00:00       10  UTICA.dmevals.local\n",
            "2 2024-06-07 23:28:17+00:00       10  UTICA.dmevals.local\n",
            "3 2024-06-07 23:28:17+00:00       10  UTICA.dmevals.local\n",
            "4 2024-06-07 23:28:17+00:00       10  UTICA.dmevals.local\n"
          ]
        }
      ],
      "source": [
        "df=kql_cyber_brain(\"show me the first 5 results, but only display event time, event id, and host\")"
      ]
    },
    {
      "cell_type": "code",
      "execution_count": 30,
      "metadata": {
        "jupyter": {
          "outputs_hidden": false,
          "source_hidden": false
        },
        "nteract": {
          "transient": {
            "deleting": false
          }
        }
      },
      "outputs": [
        {
          "data": {
            "application/vnd.livy.statement-meta+json": {
              "execution_finish_time": "2024-07-10T02:11:00.6088201Z",
              "execution_start_time": "2024-07-10T02:10:11.0500168Z",
              "livy_statement_state": "available",
              "normalized_state": "finished",
              "parent_msg_id": "28a59c3a-5ac7-489a-b2e2-1a509f2e3551",
              "queued_time": "2024-07-10T02:10:10.9130123Z",
              "session_id": "5",
              "session_start_time": null,
              "spark_jobs": null,
              "spark_pool": "SampleSpark",
              "state": "finished",
              "statement_id": 30,
              "statement_ids": [
                30
              ]
            },
            "text/plain": [
              "StatementMeta(SampleSpark, 5, 30, Finished, Available, Finished)"
            ]
          },
          "metadata": {},
          "output_type": "display_data"
        },
        {
          "name": "stdout",
          "output_type": "stream",
          "text": [
            "give me the count of all failed logins\n",
            "\n",
            "APT29\n",
            "| where EventID == 5156\n",
            "| summarize count()\n",
            "\n",
            "----------------\n",
            "   count_\n",
            "0    3163\n"
          ]
        }
      ],
      "source": [
        "df=kql_cyber_brain(\"give me the count of all failed logins\")"
      ]
    },
    {
      "cell_type": "code",
      "execution_count": 31,
      "metadata": {
        "jupyter": {
          "outputs_hidden": false,
          "source_hidden": false
        },
        "nteract": {
          "transient": {
            "deleting": false
          }
        }
      },
      "outputs": [
        {
          "data": {
            "application/vnd.livy.statement-meta+json": {
              "execution_finish_time": "2024-07-10T02:12:01.4725836Z",
              "execution_start_time": "2024-07-10T02:11:05.5883559Z",
              "livy_statement_state": "available",
              "normalized_state": "finished",
              "parent_msg_id": "d011ef89-e8ec-4530-8bd8-70739ce133c0",
              "queued_time": "2024-07-10T02:11:05.4528403Z",
              "session_id": "5",
              "session_start_time": null,
              "spark_jobs": null,
              "spark_pool": "SampleSpark",
              "state": "finished",
              "statement_id": 31,
              "statement_ids": [
                31
              ]
            },
            "text/plain": [
              "StatementMeta(SampleSpark, 5, 31, Finished, Available, Finished)"
            ]
          },
          "metadata": {},
          "output_type": "display_data"
        },
        {
          "name": "stdout",
          "output_type": "stream",
          "text": [
            "I would like a count of Applications that contain psexec or 3aka3\n",
            "\n",
            "APT29\n",
            "| where Application contains \"psexec\" or Application contains \"3aka3\"\n",
            "| summarize count() by Application\n",
            "\n",
            "----------------\n",
            "                                         Application  count_\n",
            "0  \\device\\harddiskvolume2\\program files\\sysinter...      26\n",
            "1  \\device\\harddiskvolume2\\programdata\\victim\\â€®...       2\n"
          ]
        }
      ],
      "source": [
        "df=kql_cyber_brain(\"I would like a count of Applications that contain psexec or 3aka3\")"
      ]
    }
  ],
  "metadata": {
    "description": null,
    "kernel_info": {
      "name": "synapse_pyspark"
    },
    "kernelspec": {
      "display_name": "Synapse PySpark",
      "language": "Python",
      "name": "synapse_pyspark"
    },
    "language_info": {
      "name": "python"
    },
    "save_output": true,
    "synapse_widget": {
      "state": {},
      "version": "0.1"
    }
  },
  "nbformat": 4,
  "nbformat_minor": 2
}
